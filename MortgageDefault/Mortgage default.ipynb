{
 "cells": [
  {
   "cell_type": "markdown",
   "metadata": {},
   "source": [
    "## Mortgage default"
   ]
  },
  {
   "cell_type": "markdown",
   "metadata": {},
   "source": [
    "### Objective: \n",
    "The aim of this project is to develop a model to predict if a mortgage from the dataset will default in its remaining lifetime given the information known at the time of its first observation."
   ]
  },
  {
   "cell_type": "code",
   "execution_count": 1,
   "metadata": {},
   "outputs": [],
   "source": [
    "# coding: utf-8\n",
    "# standard import\n",
    "import os\n",
    "import numpy as np\n",
    "import pandas as pd\n",
    "import matplotlib.pyplot as plt\n",
    "import seaborn as sns\n",
    "sns.set()\n",
    "\n",
    "import sklearn\n",
    "from sklearn.model_selection import train_test_split, GridSearchCV\n",
    "from sklearn.metrics import precision_score, recall_score\n",
    "from sklearn.metrics import classification_report, confusion_matrix\n",
    "from sklearn.ensemble import RandomForestClassifier"
   ]
  },
  {
   "cell_type": "markdown",
   "metadata": {},
   "source": [
    "Loading the data in a pandas dataframe"
   ]
  },
  {
   "cell_type": "code",
   "execution_count": 2,
   "metadata": {},
   "outputs": [],
   "source": [
    "cwd = os.getcwd()\n",
    "os.chdir(cwd)\n",
    "data = pd.read_csv(\"data/mortgage.csv\")"
   ]
  },
  {
   "cell_type": "markdown",
   "metadata": {},
   "source": [
    "## EDA"
   ]
  },
  {
   "cell_type": "code",
   "execution_count": 3,
   "metadata": {},
   "outputs": [
    {
     "name": "stdout",
     "output_type": "stream",
     "text": [
      "<class 'pandas.core.frame.DataFrame'>\n",
      "RangeIndex: 622489 entries, 0 to 622488\n",
      "Data columns (total 23 columns):\n",
      " #   Column                   Non-Null Count   Dtype  \n",
      "---  ------                   --------------   -----  \n",
      " 0   id                       622489 non-null  int64  \n",
      " 1   time                     622489 non-null  int64  \n",
      " 2   orig_time                622489 non-null  int64  \n",
      " 3   first_time               622489 non-null  int64  \n",
      " 4   mat_time                 622489 non-null  int64  \n",
      " 5   balance_time             622489 non-null  float64\n",
      " 6   LTV_time                 622219 non-null  float64\n",
      " 7   interest_rate_time       622489 non-null  float64\n",
      " 8   hpi_time                 622489 non-null  float64\n",
      " 9   gdp_time                 622489 non-null  float64\n",
      " 10  uer_time                 622489 non-null  float64\n",
      " 11  REtype_CO_orig_time      622489 non-null  int64  \n",
      " 12  REtype_PU_orig_time      622489 non-null  int64  \n",
      " 13  REtype_SF_orig_time      622489 non-null  int64  \n",
      " 14  investor_orig_time       622489 non-null  int64  \n",
      " 15  balance_orig_time        622489 non-null  float64\n",
      " 16  FICO_orig_time           622489 non-null  int64  \n",
      " 17  LTV_orig_time            622489 non-null  float64\n",
      " 18  Interest_Rate_orig_time  622489 non-null  float64\n",
      " 19  hpi_orig_time            622489 non-null  float64\n",
      " 20  default_time             622489 non-null  int64  \n",
      " 21  payoff_time              622489 non-null  int64  \n",
      " 22  status_time              622489 non-null  int64  \n",
      "dtypes: float64(10), int64(13)\n",
      "memory usage: 109.2 MB\n"
     ]
    }
   ],
   "source": [
    "# Checking names, null values count and data type for each features\n",
    "data.info()"
   ]
  },
  {
   "cell_type": "markdown",
   "metadata": {},
   "source": [
    "Removing any duplicates and looking at the dataset."
   ]
  },
  {
   "cell_type": "code",
   "execution_count": 5,
   "metadata": {},
   "outputs": [
    {
     "data": {
      "text/html": [
       "<div>\n",
       "<style scoped>\n",
       "    .dataframe tbody tr th:only-of-type {\n",
       "        vertical-align: middle;\n",
       "    }\n",
       "\n",
       "    .dataframe tbody tr th {\n",
       "        vertical-align: top;\n",
       "    }\n",
       "\n",
       "    .dataframe thead th {\n",
       "        text-align: right;\n",
       "    }\n",
       "</style>\n",
       "<table border=\"1\" class=\"dataframe\">\n",
       "  <thead>\n",
       "    <tr style=\"text-align: right;\">\n",
       "      <th></th>\n",
       "      <th>id</th>\n",
       "      <th>time</th>\n",
       "      <th>orig_time</th>\n",
       "      <th>first_time</th>\n",
       "      <th>mat_time</th>\n",
       "      <th>balance_time</th>\n",
       "      <th>LTV_time</th>\n",
       "      <th>interest_rate_time</th>\n",
       "      <th>hpi_time</th>\n",
       "      <th>gdp_time</th>\n",
       "      <th>...</th>\n",
       "      <th>REtype_SF_orig_time</th>\n",
       "      <th>investor_orig_time</th>\n",
       "      <th>balance_orig_time</th>\n",
       "      <th>FICO_orig_time</th>\n",
       "      <th>LTV_orig_time</th>\n",
       "      <th>Interest_Rate_orig_time</th>\n",
       "      <th>hpi_orig_time</th>\n",
       "      <th>default_time</th>\n",
       "      <th>payoff_time</th>\n",
       "      <th>status_time</th>\n",
       "    </tr>\n",
       "  </thead>\n",
       "  <tbody>\n",
       "    <tr>\n",
       "      <th>0</th>\n",
       "      <td>1</td>\n",
       "      <td>25</td>\n",
       "      <td>-7</td>\n",
       "      <td>25</td>\n",
       "      <td>113</td>\n",
       "      <td>41303.42</td>\n",
       "      <td>24.498336</td>\n",
       "      <td>9.200</td>\n",
       "      <td>226.29</td>\n",
       "      <td>2.899137</td>\n",
       "      <td>...</td>\n",
       "      <td>1</td>\n",
       "      <td>0</td>\n",
       "      <td>45000.0</td>\n",
       "      <td>715</td>\n",
       "      <td>69.4</td>\n",
       "      <td>9.20</td>\n",
       "      <td>87.03</td>\n",
       "      <td>0</td>\n",
       "      <td>0</td>\n",
       "      <td>0</td>\n",
       "    </tr>\n",
       "    <tr>\n",
       "      <th>1</th>\n",
       "      <td>1</td>\n",
       "      <td>26</td>\n",
       "      <td>-7</td>\n",
       "      <td>25</td>\n",
       "      <td>113</td>\n",
       "      <td>41061.95</td>\n",
       "      <td>24.483867</td>\n",
       "      <td>9.200</td>\n",
       "      <td>225.10</td>\n",
       "      <td>2.151365</td>\n",
       "      <td>...</td>\n",
       "      <td>1</td>\n",
       "      <td>0</td>\n",
       "      <td>45000.0</td>\n",
       "      <td>715</td>\n",
       "      <td>69.4</td>\n",
       "      <td>9.20</td>\n",
       "      <td>87.03</td>\n",
       "      <td>0</td>\n",
       "      <td>0</td>\n",
       "      <td>0</td>\n",
       "    </tr>\n",
       "    <tr>\n",
       "      <th>2</th>\n",
       "      <td>1</td>\n",
       "      <td>27</td>\n",
       "      <td>-7</td>\n",
       "      <td>25</td>\n",
       "      <td>113</td>\n",
       "      <td>40804.42</td>\n",
       "      <td>24.626795</td>\n",
       "      <td>9.200</td>\n",
       "      <td>222.39</td>\n",
       "      <td>2.361722</td>\n",
       "      <td>...</td>\n",
       "      <td>1</td>\n",
       "      <td>0</td>\n",
       "      <td>45000.0</td>\n",
       "      <td>715</td>\n",
       "      <td>69.4</td>\n",
       "      <td>9.20</td>\n",
       "      <td>87.03</td>\n",
       "      <td>0</td>\n",
       "      <td>0</td>\n",
       "      <td>0</td>\n",
       "    </tr>\n",
       "    <tr>\n",
       "      <th>3</th>\n",
       "      <td>1</td>\n",
       "      <td>28</td>\n",
       "      <td>-7</td>\n",
       "      <td>25</td>\n",
       "      <td>113</td>\n",
       "      <td>40483.89</td>\n",
       "      <td>24.735883</td>\n",
       "      <td>9.200</td>\n",
       "      <td>219.67</td>\n",
       "      <td>1.229172</td>\n",
       "      <td>...</td>\n",
       "      <td>1</td>\n",
       "      <td>0</td>\n",
       "      <td>45000.0</td>\n",
       "      <td>715</td>\n",
       "      <td>69.4</td>\n",
       "      <td>9.20</td>\n",
       "      <td>87.03</td>\n",
       "      <td>0</td>\n",
       "      <td>0</td>\n",
       "      <td>0</td>\n",
       "    </tr>\n",
       "    <tr>\n",
       "      <th>4</th>\n",
       "      <td>1</td>\n",
       "      <td>29</td>\n",
       "      <td>-7</td>\n",
       "      <td>25</td>\n",
       "      <td>113</td>\n",
       "      <td>40367.06</td>\n",
       "      <td>24.925476</td>\n",
       "      <td>9.200</td>\n",
       "      <td>217.37</td>\n",
       "      <td>1.692969</td>\n",
       "      <td>...</td>\n",
       "      <td>1</td>\n",
       "      <td>0</td>\n",
       "      <td>45000.0</td>\n",
       "      <td>715</td>\n",
       "      <td>69.4</td>\n",
       "      <td>9.20</td>\n",
       "      <td>87.03</td>\n",
       "      <td>0</td>\n",
       "      <td>0</td>\n",
       "      <td>0</td>\n",
       "    </tr>\n",
       "    <tr>\n",
       "      <th>...</th>\n",
       "      <td>...</td>\n",
       "      <td>...</td>\n",
       "      <td>...</td>\n",
       "      <td>...</td>\n",
       "      <td>...</td>\n",
       "      <td>...</td>\n",
       "      <td>...</td>\n",
       "      <td>...</td>\n",
       "      <td>...</td>\n",
       "      <td>...</td>\n",
       "      <td>...</td>\n",
       "      <td>...</td>\n",
       "      <td>...</td>\n",
       "      <td>...</td>\n",
       "      <td>...</td>\n",
       "      <td>...</td>\n",
       "      <td>...</td>\n",
       "      <td>...</td>\n",
       "      <td>...</td>\n",
       "      <td>...</td>\n",
       "      <td>...</td>\n",
       "    </tr>\n",
       "    <tr>\n",
       "      <th>622484</th>\n",
       "      <td>50000</td>\n",
       "      <td>56</td>\n",
       "      <td>16</td>\n",
       "      <td>52</td>\n",
       "      <td>177</td>\n",
       "      <td>517107.42</td>\n",
       "      <td>57.659403</td>\n",
       "      <td>2.664</td>\n",
       "      <td>181.43</td>\n",
       "      <td>1.717053</td>\n",
       "      <td>...</td>\n",
       "      <td>0</td>\n",
       "      <td>0</td>\n",
       "      <td>664000.0</td>\n",
       "      <td>653</td>\n",
       "      <td>80.0</td>\n",
       "      <td>1.75</td>\n",
       "      <td>167.91</td>\n",
       "      <td>0</td>\n",
       "      <td>0</td>\n",
       "      <td>0</td>\n",
       "    </tr>\n",
       "    <tr>\n",
       "      <th>622485</th>\n",
       "      <td>50000</td>\n",
       "      <td>57</td>\n",
       "      <td>16</td>\n",
       "      <td>52</td>\n",
       "      <td>177</td>\n",
       "      <td>512274.57</td>\n",
       "      <td>55.359916</td>\n",
       "      <td>2.652</td>\n",
       "      <td>187.20</td>\n",
       "      <td>2.556052</td>\n",
       "      <td>...</td>\n",
       "      <td>0</td>\n",
       "      <td>0</td>\n",
       "      <td>664000.0</td>\n",
       "      <td>653</td>\n",
       "      <td>80.0</td>\n",
       "      <td>1.75</td>\n",
       "      <td>167.91</td>\n",
       "      <td>0</td>\n",
       "      <td>0</td>\n",
       "      <td>0</td>\n",
       "    </tr>\n",
       "    <tr>\n",
       "      <th>622486</th>\n",
       "      <td>50000</td>\n",
       "      <td>58</td>\n",
       "      <td>16</td>\n",
       "      <td>52</td>\n",
       "      <td>177</td>\n",
       "      <td>507396.72</td>\n",
       "      <td>54.492206</td>\n",
       "      <td>2.644</td>\n",
       "      <td>188.37</td>\n",
       "      <td>2.868594</td>\n",
       "      <td>...</td>\n",
       "      <td>0</td>\n",
       "      <td>0</td>\n",
       "      <td>664000.0</td>\n",
       "      <td>653</td>\n",
       "      <td>80.0</td>\n",
       "      <td>1.75</td>\n",
       "      <td>167.91</td>\n",
       "      <td>0</td>\n",
       "      <td>0</td>\n",
       "      <td>0</td>\n",
       "    </tr>\n",
       "    <tr>\n",
       "      <th>622487</th>\n",
       "      <td>50000</td>\n",
       "      <td>59</td>\n",
       "      <td>16</td>\n",
       "      <td>52</td>\n",
       "      <td>177</td>\n",
       "      <td>502478.87</td>\n",
       "      <td>54.171106</td>\n",
       "      <td>2.638</td>\n",
       "      <td>187.65</td>\n",
       "      <td>2.443648</td>\n",
       "      <td>...</td>\n",
       "      <td>0</td>\n",
       "      <td>0</td>\n",
       "      <td>664000.0</td>\n",
       "      <td>653</td>\n",
       "      <td>80.0</td>\n",
       "      <td>1.75</td>\n",
       "      <td>167.91</td>\n",
       "      <td>0</td>\n",
       "      <td>0</td>\n",
       "      <td>0</td>\n",
       "    </tr>\n",
       "    <tr>\n",
       "      <th>622488</th>\n",
       "      <td>50000</td>\n",
       "      <td>60</td>\n",
       "      <td>16</td>\n",
       "      <td>52</td>\n",
       "      <td>177</td>\n",
       "      <td>497521.35</td>\n",
       "      <td>53.023479</td>\n",
       "      <td>2.635</td>\n",
       "      <td>189.82</td>\n",
       "      <td>2.836358</td>\n",
       "      <td>...</td>\n",
       "      <td>0</td>\n",
       "      <td>0</td>\n",
       "      <td>664000.0</td>\n",
       "      <td>653</td>\n",
       "      <td>80.0</td>\n",
       "      <td>1.75</td>\n",
       "      <td>167.91</td>\n",
       "      <td>0</td>\n",
       "      <td>0</td>\n",
       "      <td>0</td>\n",
       "    </tr>\n",
       "  </tbody>\n",
       "</table>\n",
       "<p>622184 rows × 23 columns</p>\n",
       "</div>"
      ],
      "text/plain": [
       "           id  time  orig_time  first_time  mat_time  balance_time   LTV_time  \\\n",
       "0           1    25         -7          25       113      41303.42  24.498336   \n",
       "1           1    26         -7          25       113      41061.95  24.483867   \n",
       "2           1    27         -7          25       113      40804.42  24.626795   \n",
       "3           1    28         -7          25       113      40483.89  24.735883   \n",
       "4           1    29         -7          25       113      40367.06  24.925476   \n",
       "...       ...   ...        ...         ...       ...           ...        ...   \n",
       "622484  50000    56         16          52       177     517107.42  57.659403   \n",
       "622485  50000    57         16          52       177     512274.57  55.359916   \n",
       "622486  50000    58         16          52       177     507396.72  54.492206   \n",
       "622487  50000    59         16          52       177     502478.87  54.171106   \n",
       "622488  50000    60         16          52       177     497521.35  53.023479   \n",
       "\n",
       "        interest_rate_time  hpi_time  gdp_time  ...  REtype_SF_orig_time  \\\n",
       "0                    9.200    226.29  2.899137  ...                    1   \n",
       "1                    9.200    225.10  2.151365  ...                    1   \n",
       "2                    9.200    222.39  2.361722  ...                    1   \n",
       "3                    9.200    219.67  1.229172  ...                    1   \n",
       "4                    9.200    217.37  1.692969  ...                    1   \n",
       "...                    ...       ...       ...  ...                  ...   \n",
       "622484               2.664    181.43  1.717053  ...                    0   \n",
       "622485               2.652    187.20  2.556052  ...                    0   \n",
       "622486               2.644    188.37  2.868594  ...                    0   \n",
       "622487               2.638    187.65  2.443648  ...                    0   \n",
       "622488               2.635    189.82  2.836358  ...                    0   \n",
       "\n",
       "        investor_orig_time  balance_orig_time  FICO_orig_time  LTV_orig_time  \\\n",
       "0                        0            45000.0             715           69.4   \n",
       "1                        0            45000.0             715           69.4   \n",
       "2                        0            45000.0             715           69.4   \n",
       "3                        0            45000.0             715           69.4   \n",
       "4                        0            45000.0             715           69.4   \n",
       "...                    ...                ...             ...            ...   \n",
       "622484                   0           664000.0             653           80.0   \n",
       "622485                   0           664000.0             653           80.0   \n",
       "622486                   0           664000.0             653           80.0   \n",
       "622487                   0           664000.0             653           80.0   \n",
       "622488                   0           664000.0             653           80.0   \n",
       "\n",
       "        Interest_Rate_orig_time  hpi_orig_time  default_time  payoff_time  \\\n",
       "0                          9.20          87.03             0            0   \n",
       "1                          9.20          87.03             0            0   \n",
       "2                          9.20          87.03             0            0   \n",
       "3                          9.20          87.03             0            0   \n",
       "4                          9.20          87.03             0            0   \n",
       "...                         ...            ...           ...          ...   \n",
       "622484                     1.75         167.91             0            0   \n",
       "622485                     1.75         167.91             0            0   \n",
       "622486                     1.75         167.91             0            0   \n",
       "622487                     1.75         167.91             0            0   \n",
       "622488                     1.75         167.91             0            0   \n",
       "\n",
       "        status_time  \n",
       "0                 0  \n",
       "1                 0  \n",
       "2                 0  \n",
       "3                 0  \n",
       "4                 0  \n",
       "...             ...  \n",
       "622484            0  \n",
       "622485            0  \n",
       "622486            0  \n",
       "622487            0  \n",
       "622488            0  \n",
       "\n",
       "[622184 rows x 23 columns]"
      ]
     },
     "execution_count": 5,
     "metadata": {},
     "output_type": "execute_result"
    }
   ],
   "source": [
    "data = data.drop_duplicates()\n",
    "data"
   ]
  },
  {
   "cell_type": "markdown",
   "metadata": {},
   "source": [
    "### Categorical variables"
   ]
  },
  {
   "cell_type": "markdown",
   "metadata": {},
   "source": [
    "From the output above we can see that there are no missing values in the dataset. The only data type present are float64 and int64; looking closely to the values of the int64 variables and considering the variables descritpion, there are 7 categoriacal variables: 4 as features and 3 can be used as target.\n",
    "\n",
    " - 'REtype_CO_orig_time'\n",
    " - 'REtype_PU_orig_time'\n",
    " - 'REtype_SF_orig_time'\n",
    " - 'investor_orig_time'\n",
    " \n",
    "already encoded as 0-1 variables."
   ]
  },
  {
   "cell_type": "markdown",
   "metadata": {},
   "source": [
    "### Target variable"
   ]
  },
  {
   "cell_type": "markdown",
   "metadata": {},
   "source": [
    "- 'default_time'\n",
    "- 'payoff_time'\n",
    " \n",
    "already encoded as 0-1 variables, and the last column of the dataset  \n",
    "- 'status_time'\n",
    "\n",
    "has three values that encode the values in the previous two columns ('default_time', 'payoff_time') and a third neutral value.\n",
    "The objective is to predict if a mortgage will default: 'default_time' is selected as target variable and 'payoff_time' and 'status_time' are dropped.<br>\n",
    "\n",
    "This is a binary classification problem: the model will predict the probabilities of default and with a threshold (default is 0.5) will output 1 for those cases for with the predicted probability >= 0.5, it will output 0 otherwise.\n",
    "\n",
    "The model will consider the observations at the time stamp of first observation and will predict the default during the remaining lifetime, for this the target associated is the observed value of 'default_time' at the last time of observation available in the dataset."
   ]
  },
  {
   "cell_type": "markdown",
   "metadata": {},
   "source": [
    "### Numerical variables"
   ]
  },
  {
   "cell_type": "code",
   "execution_count": 6,
   "metadata": {},
   "outputs": [],
   "source": [
    "# list of names for numerical variables\n",
    "numerical_var = ['id', 'time', 'orig_time', 'first_time', 'mat_time', 'balance_time',\n",
    "       'LTV_time', 'interest_rate_time', 'hpi_time', 'gdp_time', 'uer_time',\n",
    "       'balance_orig_time', 'FICO_orig_time', 'LTV_orig_time', 'Interest_Rate_orig_time', 'hpi_orig_time']"
   ]
  },
  {
   "cell_type": "markdown",
   "metadata": {},
   "source": [
    "Summary statistics for the numerical variables"
   ]
  },
  {
   "cell_type": "code",
   "execution_count": 7,
   "metadata": {},
   "outputs": [
    {
     "data": {
      "text/html": [
       "<div>\n",
       "<style scoped>\n",
       "    .dataframe tbody tr th:only-of-type {\n",
       "        vertical-align: middle;\n",
       "    }\n",
       "\n",
       "    .dataframe tbody tr th {\n",
       "        vertical-align: top;\n",
       "    }\n",
       "\n",
       "    .dataframe thead th {\n",
       "        text-align: right;\n",
       "    }\n",
       "</style>\n",
       "<table border=\"1\" class=\"dataframe\">\n",
       "  <thead>\n",
       "    <tr style=\"text-align: right;\">\n",
       "      <th></th>\n",
       "      <th>id</th>\n",
       "      <th>time</th>\n",
       "      <th>orig_time</th>\n",
       "      <th>first_time</th>\n",
       "      <th>mat_time</th>\n",
       "      <th>balance_time</th>\n",
       "      <th>LTV_time</th>\n",
       "      <th>interest_rate_time</th>\n",
       "      <th>hpi_time</th>\n",
       "      <th>gdp_time</th>\n",
       "      <th>uer_time</th>\n",
       "      <th>balance_orig_time</th>\n",
       "      <th>FICO_orig_time</th>\n",
       "      <th>LTV_orig_time</th>\n",
       "      <th>Interest_Rate_orig_time</th>\n",
       "      <th>hpi_orig_time</th>\n",
       "    </tr>\n",
       "  </thead>\n",
       "  <tbody>\n",
       "    <tr>\n",
       "      <th>count</th>\n",
       "      <td>622184.000000</td>\n",
       "      <td>622184.000000</td>\n",
       "      <td>622184.000000</td>\n",
       "      <td>622184.000000</td>\n",
       "      <td>622184.000000</td>\n",
       "      <td>6.221840e+05</td>\n",
       "      <td>621914.000000</td>\n",
       "      <td>622184.000000</td>\n",
       "      <td>622184.000000</td>\n",
       "      <td>622184.000000</td>\n",
       "      <td>622184.000000</td>\n",
       "      <td>6.221840e+05</td>\n",
       "      <td>622184.000000</td>\n",
       "      <td>622184.000000</td>\n",
       "      <td>622184.000000</td>\n",
       "      <td>622184.000000</td>\n",
       "    </tr>\n",
       "    <tr>\n",
       "      <th>mean</th>\n",
       "      <td>25141.511718</td>\n",
       "      <td>35.793355</td>\n",
       "      <td>20.572040</td>\n",
       "      <td>24.610077</td>\n",
       "      <td>137.214948</td>\n",
       "      <td>2.460287e+05</td>\n",
       "      <td>83.087502</td>\n",
       "      <td>6.702738</td>\n",
       "      <td>184.114951</td>\n",
       "      <td>1.381087</td>\n",
       "      <td>6.516699</td>\n",
       "      <td>2.563064e+05</td>\n",
       "      <td>673.597376</td>\n",
       "      <td>78.977313</td>\n",
       "      <td>5.649323</td>\n",
       "      <td>198.126695</td>\n",
       "    </tr>\n",
       "    <tr>\n",
       "      <th>std</th>\n",
       "      <td>13750.913602</td>\n",
       "      <td>11.577917</td>\n",
       "      <td>7.616133</td>\n",
       "      <td>6.739121</td>\n",
       "      <td>19.523464</td>\n",
       "      <td>2.141736e+05</td>\n",
       "      <td>24.965346</td>\n",
       "      <td>2.079648</td>\n",
       "      <td>27.651779</td>\n",
       "      <td>1.965125</td>\n",
       "      <td>1.921686</td>\n",
       "      <td>2.197387e+05</td>\n",
       "      <td>71.729178</td>\n",
       "      <td>10.125992</td>\n",
       "      <td>2.978715</td>\n",
       "      <td>33.965424</td>\n",
       "    </tr>\n",
       "    <tr>\n",
       "      <th>min</th>\n",
       "      <td>1.000000</td>\n",
       "      <td>1.000000</td>\n",
       "      <td>-40.000000</td>\n",
       "      <td>1.000000</td>\n",
       "      <td>18.000000</td>\n",
       "      <td>0.000000e+00</td>\n",
       "      <td>0.000000</td>\n",
       "      <td>0.000000</td>\n",
       "      <td>107.830000</td>\n",
       "      <td>-4.146711</td>\n",
       "      <td>3.800000</td>\n",
       "      <td>0.000000e+00</td>\n",
       "      <td>400.000000</td>\n",
       "      <td>50.100000</td>\n",
       "      <td>0.000000</td>\n",
       "      <td>75.710000</td>\n",
       "    </tr>\n",
       "    <tr>\n",
       "      <th>25%</th>\n",
       "      <td>13576.000000</td>\n",
       "      <td>27.000000</td>\n",
       "      <td>18.000000</td>\n",
       "      <td>21.000000</td>\n",
       "      <td>137.000000</td>\n",
       "      <td>1.020661e+05</td>\n",
       "      <td>67.117926</td>\n",
       "      <td>5.650000</td>\n",
       "      <td>158.600000</td>\n",
       "      <td>1.104163</td>\n",
       "      <td>4.700000</td>\n",
       "      <td>1.080000e+05</td>\n",
       "      <td>626.000000</td>\n",
       "      <td>75.000000</td>\n",
       "      <td>4.996000</td>\n",
       "      <td>179.450000</td>\n",
       "    </tr>\n",
       "    <tr>\n",
       "      <th>50%</th>\n",
       "      <td>24872.000000</td>\n",
       "      <td>34.000000</td>\n",
       "      <td>22.000000</td>\n",
       "      <td>25.000000</td>\n",
       "      <td>142.000000</td>\n",
       "      <td>1.807216e+05</td>\n",
       "      <td>82.258100</td>\n",
       "      <td>6.625000</td>\n",
       "      <td>180.520000</td>\n",
       "      <td>1.850689</td>\n",
       "      <td>5.700000</td>\n",
       "      <td>1.880000e+05</td>\n",
       "      <td>678.000000</td>\n",
       "      <td>80.000000</td>\n",
       "      <td>6.290000</td>\n",
       "      <td>216.770000</td>\n",
       "    </tr>\n",
       "    <tr>\n",
       "      <th>75%</th>\n",
       "      <td>37040.000000</td>\n",
       "      <td>44.000000</td>\n",
       "      <td>25.000000</td>\n",
       "      <td>28.000000</td>\n",
       "      <td>145.000000</td>\n",
       "      <td>3.375561e+05</td>\n",
       "      <td>100.642718</td>\n",
       "      <td>7.875000</td>\n",
       "      <td>212.730000</td>\n",
       "      <td>2.694111</td>\n",
       "      <td>8.200000</td>\n",
       "      <td>3.520000e+05</td>\n",
       "      <td>729.000000</td>\n",
       "      <td>80.000000</td>\n",
       "      <td>7.465000</td>\n",
       "      <td>222.390000</td>\n",
       "    </tr>\n",
       "    <tr>\n",
       "      <th>max</th>\n",
       "      <td>50000.000000</td>\n",
       "      <td>60.000000</td>\n",
       "      <td>60.000000</td>\n",
       "      <td>60.000000</td>\n",
       "      <td>229.000000</td>\n",
       "      <td>8.701859e+06</td>\n",
       "      <td>803.513550</td>\n",
       "      <td>37.500000</td>\n",
       "      <td>226.290000</td>\n",
       "      <td>5.132464</td>\n",
       "      <td>10.000000</td>\n",
       "      <td>8.000000e+06</td>\n",
       "      <td>840.000000</td>\n",
       "      <td>218.500000</td>\n",
       "      <td>19.750000</td>\n",
       "      <td>226.290000</td>\n",
       "    </tr>\n",
       "  </tbody>\n",
       "</table>\n",
       "</div>"
      ],
      "text/plain": [
       "                  id           time      orig_time     first_time  \\\n",
       "count  622184.000000  622184.000000  622184.000000  622184.000000   \n",
       "mean    25141.511718      35.793355      20.572040      24.610077   \n",
       "std     13750.913602      11.577917       7.616133       6.739121   \n",
       "min         1.000000       1.000000     -40.000000       1.000000   \n",
       "25%     13576.000000      27.000000      18.000000      21.000000   \n",
       "50%     24872.000000      34.000000      22.000000      25.000000   \n",
       "75%     37040.000000      44.000000      25.000000      28.000000   \n",
       "max     50000.000000      60.000000      60.000000      60.000000   \n",
       "\n",
       "            mat_time  balance_time       LTV_time  interest_rate_time  \\\n",
       "count  622184.000000  6.221840e+05  621914.000000       622184.000000   \n",
       "mean      137.214948  2.460287e+05      83.087502            6.702738   \n",
       "std        19.523464  2.141736e+05      24.965346            2.079648   \n",
       "min        18.000000  0.000000e+00       0.000000            0.000000   \n",
       "25%       137.000000  1.020661e+05      67.117926            5.650000   \n",
       "50%       142.000000  1.807216e+05      82.258100            6.625000   \n",
       "75%       145.000000  3.375561e+05     100.642718            7.875000   \n",
       "max       229.000000  8.701859e+06     803.513550           37.500000   \n",
       "\n",
       "            hpi_time       gdp_time       uer_time  balance_orig_time  \\\n",
       "count  622184.000000  622184.000000  622184.000000       6.221840e+05   \n",
       "mean      184.114951       1.381087       6.516699       2.563064e+05   \n",
       "std        27.651779       1.965125       1.921686       2.197387e+05   \n",
       "min       107.830000      -4.146711       3.800000       0.000000e+00   \n",
       "25%       158.600000       1.104163       4.700000       1.080000e+05   \n",
       "50%       180.520000       1.850689       5.700000       1.880000e+05   \n",
       "75%       212.730000       2.694111       8.200000       3.520000e+05   \n",
       "max       226.290000       5.132464      10.000000       8.000000e+06   \n",
       "\n",
       "       FICO_orig_time  LTV_orig_time  Interest_Rate_orig_time  hpi_orig_time  \n",
       "count   622184.000000  622184.000000            622184.000000  622184.000000  \n",
       "mean       673.597376      78.977313                 5.649323     198.126695  \n",
       "std         71.729178      10.125992                 2.978715      33.965424  \n",
       "min        400.000000      50.100000                 0.000000      75.710000  \n",
       "25%        626.000000      75.000000                 4.996000     179.450000  \n",
       "50%        678.000000      80.000000                 6.290000     216.770000  \n",
       "75%        729.000000      80.000000                 7.465000     222.390000  \n",
       "max        840.000000     218.500000                19.750000     226.290000  "
      ]
     },
     "execution_count": 7,
     "metadata": {},
     "output_type": "execute_result"
    }
   ],
   "source": [
    "data[numerical_var].describe()"
   ]
  },
  {
   "cell_type": "markdown",
   "metadata": {},
   "source": [
    "Excluding the 'id' column, the values of the variables have different scales and ranges and this need to be considered before developing the model."
   ]
  },
  {
   "cell_type": "markdown",
   "metadata": {},
   "source": [
    "### Values at the origin of mortgage\n",
    "\n",
    "All the variable ending in \"*_orig_time\":\n",
    "- REtype_CO_orig_time', 'REtype_PU_orig_time', 'REtype_SF_orig_time', 'investor_orig_time', 'balance_orig_time', 'FICO_orig_time', 'LTV_orig_time', 'Interest_Rate_orig_time', 'hpi_orig_time'\n",
    "\n",
    "present the respective values at the time the mortgage originated (indicated by the value in 'orig_time'), this may be before the first observation in the dataset. Therefore the values is the same for each observation of the same \"id\".\n",
    "\n",
    "The same is for the variable 'first_time': it indicates the time of the first observation for each 'id'."
   ]
  },
  {
   "cell_type": "markdown",
   "metadata": {},
   "source": [
    "## Dataset cleaning"
   ]
  },
  {
   "cell_type": "markdown",
   "metadata": {},
   "source": [
    "The dataset need few pre-processing steps before being ready for modelling: dropping columns, selecting observations at 'first_time', setting target 'default_time' at last observation."
   ]
  },
  {
   "cell_type": "code",
   "execution_count": 8,
   "metadata": {},
   "outputs": [],
   "source": [
    "# making a copy of the dataset\n",
    "df = data.copy()"
   ]
  },
  {
   "cell_type": "code",
   "execution_count": 9,
   "metadata": {},
   "outputs": [],
   "source": [
    "# dropping redundant target columns and 'LTV_time' as suggested in the instruction\n",
    "df.drop(columns=['payoff_time', 'status_time', 'LTV_time'], inplace = True)"
   ]
  },
  {
   "cell_type": "markdown",
   "metadata": {},
   "source": [
    "#### Select data at first observation"
   ]
  },
  {
   "cell_type": "code",
   "execution_count": 10,
   "metadata": {},
   "outputs": [],
   "source": [
    "df_firstObs = df.copy()"
   ]
  },
  {
   "cell_type": "code",
   "execution_count": 11,
   "metadata": {},
   "outputs": [],
   "source": [
    "df_firstObs.drop(columns=['default_time'], inplace = True)"
   ]
  },
  {
   "cell_type": "code",
   "execution_count": 12,
   "metadata": {},
   "outputs": [],
   "source": [
    "df_firstObs = df_firstObs[df_firstObs.time == df_firstObs.first_time]"
   ]
  },
  {
   "cell_type": "code",
   "execution_count": 13,
   "metadata": {},
   "outputs": [],
   "source": [
    "df_firstObs.drop_duplicates(subset=None, keep=\"first\", inplace=True)"
   ]
  },
  {
   "cell_type": "code",
   "execution_count": 14,
   "metadata": {},
   "outputs": [
    {
     "data": {
      "text/plain": [
       "42503    2\n",
       "42514    2\n",
       "1        1\n",
       "33335    1\n",
       "33327    1\n",
       "        ..\n",
       "16669    1\n",
       "16670    1\n",
       "16671    1\n",
       "16672    1\n",
       "50000    1\n",
       "Name: id, Length: 50000, dtype: int64"
      ]
     },
     "execution_count": 14,
     "metadata": {},
     "output_type": "execute_result"
    }
   ],
   "source": [
    "df_firstObs['id'].value_counts()"
   ]
  },
  {
   "cell_type": "markdown",
   "metadata": {},
   "source": [
    "There are some duplicates rows, there are probably data quality problems and we removed these 'id' from the dataset."
   ]
  },
  {
   "cell_type": "code",
   "execution_count": 15,
   "metadata": {},
   "outputs": [],
   "source": [
    "id_to_remove = [42514, 42503]\n",
    "df_firstObs = df_firstObs[~df_firstObs['id'].isin(id_to_remove)]"
   ]
  },
  {
   "cell_type": "code",
   "execution_count": 16,
   "metadata": {},
   "outputs": [
    {
     "data": {
      "text/plain": [
       "49998"
      ]
     },
     "execution_count": 16,
     "metadata": {},
     "output_type": "execute_result"
    }
   ],
   "source": [
    "df_firstObs.shape[0]"
   ]
  },
  {
   "cell_type": "markdown",
   "metadata": {},
   "source": [
    "#### Select target at last observation"
   ]
  },
  {
   "cell_type": "code",
   "execution_count": 17,
   "metadata": {},
   "outputs": [],
   "source": [
    "df_target = df.copy()"
   ]
  },
  {
   "cell_type": "code",
   "execution_count": 18,
   "metadata": {},
   "outputs": [],
   "source": [
    "idx = df_target.groupby(['id'])['time'].transform(max) == df_target['time']"
   ]
  },
  {
   "cell_type": "code",
   "execution_count": 19,
   "metadata": {},
   "outputs": [
    {
     "data": {
      "text/html": [
       "<div>\n",
       "<style scoped>\n",
       "    .dataframe tbody tr th:only-of-type {\n",
       "        vertical-align: middle;\n",
       "    }\n",
       "\n",
       "    .dataframe tbody tr th {\n",
       "        vertical-align: top;\n",
       "    }\n",
       "\n",
       "    .dataframe thead th {\n",
       "        text-align: right;\n",
       "    }\n",
       "</style>\n",
       "<table border=\"1\" class=\"dataframe\">\n",
       "  <thead>\n",
       "    <tr style=\"text-align: right;\">\n",
       "      <th></th>\n",
       "      <th>id</th>\n",
       "      <th>time</th>\n",
       "      <th>orig_time</th>\n",
       "      <th>first_time</th>\n",
       "      <th>mat_time</th>\n",
       "      <th>balance_time</th>\n",
       "      <th>interest_rate_time</th>\n",
       "      <th>hpi_time</th>\n",
       "      <th>gdp_time</th>\n",
       "      <th>uer_time</th>\n",
       "      <th>REtype_CO_orig_time</th>\n",
       "      <th>REtype_PU_orig_time</th>\n",
       "      <th>REtype_SF_orig_time</th>\n",
       "      <th>investor_orig_time</th>\n",
       "      <th>balance_orig_time</th>\n",
       "      <th>FICO_orig_time</th>\n",
       "      <th>LTV_orig_time</th>\n",
       "      <th>Interest_Rate_orig_time</th>\n",
       "      <th>hpi_orig_time</th>\n",
       "      <th>default_time</th>\n",
       "    </tr>\n",
       "  </thead>\n",
       "  <tbody>\n",
       "    <tr>\n",
       "      <th>23</th>\n",
       "      <td>1</td>\n",
       "      <td>48</td>\n",
       "      <td>-7</td>\n",
       "      <td>25</td>\n",
       "      <td>113</td>\n",
       "      <td>29087.21</td>\n",
       "      <td>9.200</td>\n",
       "      <td>146.45</td>\n",
       "      <td>2.715903</td>\n",
       "      <td>8.3</td>\n",
       "      <td>0</td>\n",
       "      <td>0</td>\n",
       "      <td>1</td>\n",
       "      <td>0</td>\n",
       "      <td>45000.0</td>\n",
       "      <td>715</td>\n",
       "      <td>69.4</td>\n",
       "      <td>9.200</td>\n",
       "      <td>87.03</td>\n",
       "      <td>1</td>\n",
       "    </tr>\n",
       "    <tr>\n",
       "      <th>25</th>\n",
       "      <td>2</td>\n",
       "      <td>26</td>\n",
       "      <td>18</td>\n",
       "      <td>25</td>\n",
       "      <td>138</td>\n",
       "      <td>105654.77</td>\n",
       "      <td>7.680</td>\n",
       "      <td>225.10</td>\n",
       "      <td>2.151365</td>\n",
       "      <td>4.7</td>\n",
       "      <td>0</td>\n",
       "      <td>0</td>\n",
       "      <td>1</td>\n",
       "      <td>0</td>\n",
       "      <td>107200.0</td>\n",
       "      <td>558</td>\n",
       "      <td>80.0</td>\n",
       "      <td>7.680</td>\n",
       "      <td>186.91</td>\n",
       "      <td>0</td>\n",
       "    </tr>\n",
       "    <tr>\n",
       "      <th>30</th>\n",
       "      <td>3</td>\n",
       "      <td>29</td>\n",
       "      <td>-6</td>\n",
       "      <td>25</td>\n",
       "      <td>114</td>\n",
       "      <td>44378.60</td>\n",
       "      <td>11.375</td>\n",
       "      <td>217.37</td>\n",
       "      <td>1.692969</td>\n",
       "      <td>4.5</td>\n",
       "      <td>0</td>\n",
       "      <td>0</td>\n",
       "      <td>1</td>\n",
       "      <td>0</td>\n",
       "      <td>48600.0</td>\n",
       "      <td>680</td>\n",
       "      <td>83.6</td>\n",
       "      <td>8.750</td>\n",
       "      <td>89.58</td>\n",
       "      <td>0</td>\n",
       "    </tr>\n",
       "    <tr>\n",
       "      <th>65</th>\n",
       "      <td>4</td>\n",
       "      <td>60</td>\n",
       "      <td>-2</td>\n",
       "      <td>25</td>\n",
       "      <td>119</td>\n",
       "      <td>52686.35</td>\n",
       "      <td>10.500</td>\n",
       "      <td>189.82</td>\n",
       "      <td>2.836358</td>\n",
       "      <td>5.7</td>\n",
       "      <td>0</td>\n",
       "      <td>0</td>\n",
       "      <td>1</td>\n",
       "      <td>0</td>\n",
       "      <td>63750.0</td>\n",
       "      <td>587</td>\n",
       "      <td>81.8</td>\n",
       "      <td>10.500</td>\n",
       "      <td>97.99</td>\n",
       "      <td>0</td>\n",
       "    </tr>\n",
       "    <tr>\n",
       "      <th>68</th>\n",
       "      <td>5</td>\n",
       "      <td>27</td>\n",
       "      <td>18</td>\n",
       "      <td>25</td>\n",
       "      <td>138</td>\n",
       "      <td>52100.71</td>\n",
       "      <td>9.155</td>\n",
       "      <td>222.39</td>\n",
       "      <td>2.361722</td>\n",
       "      <td>4.4</td>\n",
       "      <td>0</td>\n",
       "      <td>0</td>\n",
       "      <td>1</td>\n",
       "      <td>0</td>\n",
       "      <td>52800.0</td>\n",
       "      <td>527</td>\n",
       "      <td>80.0</td>\n",
       "      <td>9.155</td>\n",
       "      <td>186.91</td>\n",
       "      <td>0</td>\n",
       "    </tr>\n",
       "    <tr>\n",
       "      <th>99</th>\n",
       "      <td>6</td>\n",
       "      <td>56</td>\n",
       "      <td>19</td>\n",
       "      <td>25</td>\n",
       "      <td>139</td>\n",
       "      <td>190474.11</td>\n",
       "      <td>6.580</td>\n",
       "      <td>181.43</td>\n",
       "      <td>1.717053</td>\n",
       "      <td>6.6</td>\n",
       "      <td>0</td>\n",
       "      <td>0</td>\n",
       "      <td>1</td>\n",
       "      <td>0</td>\n",
       "      <td>212000.0</td>\n",
       "      <td>670</td>\n",
       "      <td>80.0</td>\n",
       "      <td>6.580</td>\n",
       "      <td>191.42</td>\n",
       "      <td>1</td>\n",
       "    </tr>\n",
       "    <tr>\n",
       "      <th>101</th>\n",
       "      <td>7</td>\n",
       "      <td>26</td>\n",
       "      <td>18</td>\n",
       "      <td>25</td>\n",
       "      <td>138</td>\n",
       "      <td>107916.38</td>\n",
       "      <td>9.000</td>\n",
       "      <td>225.10</td>\n",
       "      <td>2.151365</td>\n",
       "      <td>4.7</td>\n",
       "      <td>0</td>\n",
       "      <td>0</td>\n",
       "      <td>1</td>\n",
       "      <td>0</td>\n",
       "      <td>109250.0</td>\n",
       "      <td>601</td>\n",
       "      <td>95.0</td>\n",
       "      <td>9.000</td>\n",
       "      <td>186.91</td>\n",
       "      <td>0</td>\n",
       "    </tr>\n",
       "    <tr>\n",
       "      <th>102</th>\n",
       "      <td>8</td>\n",
       "      <td>25</td>\n",
       "      <td>18</td>\n",
       "      <td>25</td>\n",
       "      <td>138</td>\n",
       "      <td>152393.21</td>\n",
       "      <td>7.250</td>\n",
       "      <td>226.29</td>\n",
       "      <td>2.899137</td>\n",
       "      <td>4.7</td>\n",
       "      <td>0</td>\n",
       "      <td>0</td>\n",
       "      <td>1</td>\n",
       "      <td>0</td>\n",
       "      <td>192600.0</td>\n",
       "      <td>663</td>\n",
       "      <td>90.0</td>\n",
       "      <td>7.250</td>\n",
       "      <td>186.91</td>\n",
       "      <td>0</td>\n",
       "    </tr>\n",
       "    <tr>\n",
       "      <th>115</th>\n",
       "      <td>9</td>\n",
       "      <td>37</td>\n",
       "      <td>18</td>\n",
       "      <td>25</td>\n",
       "      <td>138</td>\n",
       "      <td>130140.31</td>\n",
       "      <td>8.000</td>\n",
       "      <td>153.35</td>\n",
       "      <td>-4.146711</td>\n",
       "      <td>9.0</td>\n",
       "      <td>0</td>\n",
       "      <td>0</td>\n",
       "      <td>1</td>\n",
       "      <td>0</td>\n",
       "      <td>128000.0</td>\n",
       "      <td>501</td>\n",
       "      <td>80.0</td>\n",
       "      <td>8.000</td>\n",
       "      <td>186.91</td>\n",
       "      <td>1</td>\n",
       "    </tr>\n",
       "    <tr>\n",
       "      <th>120</th>\n",
       "      <td>10</td>\n",
       "      <td>29</td>\n",
       "      <td>18</td>\n",
       "      <td>25</td>\n",
       "      <td>139</td>\n",
       "      <td>88046.35</td>\n",
       "      <td>10.230</td>\n",
       "      <td>217.37</td>\n",
       "      <td>1.692969</td>\n",
       "      <td>4.5</td>\n",
       "      <td>0</td>\n",
       "      <td>0</td>\n",
       "      <td>1</td>\n",
       "      <td>0</td>\n",
       "      <td>90000.0</td>\n",
       "      <td>665</td>\n",
       "      <td>80.0</td>\n",
       "      <td>7.200</td>\n",
       "      <td>186.91</td>\n",
       "      <td>1</td>\n",
       "    </tr>\n",
       "  </tbody>\n",
       "</table>\n",
       "</div>"
      ],
      "text/plain": [
       "     id  time  orig_time  first_time  mat_time  balance_time  \\\n",
       "23    1    48         -7          25       113      29087.21   \n",
       "25    2    26         18          25       138     105654.77   \n",
       "30    3    29         -6          25       114      44378.60   \n",
       "65    4    60         -2          25       119      52686.35   \n",
       "68    5    27         18          25       138      52100.71   \n",
       "99    6    56         19          25       139     190474.11   \n",
       "101   7    26         18          25       138     107916.38   \n",
       "102   8    25         18          25       138     152393.21   \n",
       "115   9    37         18          25       138     130140.31   \n",
       "120  10    29         18          25       139      88046.35   \n",
       "\n",
       "     interest_rate_time  hpi_time  gdp_time  uer_time  REtype_CO_orig_time  \\\n",
       "23                9.200    146.45  2.715903       8.3                    0   \n",
       "25                7.680    225.10  2.151365       4.7                    0   \n",
       "30               11.375    217.37  1.692969       4.5                    0   \n",
       "65               10.500    189.82  2.836358       5.7                    0   \n",
       "68                9.155    222.39  2.361722       4.4                    0   \n",
       "99                6.580    181.43  1.717053       6.6                    0   \n",
       "101               9.000    225.10  2.151365       4.7                    0   \n",
       "102               7.250    226.29  2.899137       4.7                    0   \n",
       "115               8.000    153.35 -4.146711       9.0                    0   \n",
       "120              10.230    217.37  1.692969       4.5                    0   \n",
       "\n",
       "     REtype_PU_orig_time  REtype_SF_orig_time  investor_orig_time  \\\n",
       "23                     0                    1                   0   \n",
       "25                     0                    1                   0   \n",
       "30                     0                    1                   0   \n",
       "65                     0                    1                   0   \n",
       "68                     0                    1                   0   \n",
       "99                     0                    1                   0   \n",
       "101                    0                    1                   0   \n",
       "102                    0                    1                   0   \n",
       "115                    0                    1                   0   \n",
       "120                    0                    1                   0   \n",
       "\n",
       "     balance_orig_time  FICO_orig_time  LTV_orig_time  \\\n",
       "23             45000.0             715           69.4   \n",
       "25            107200.0             558           80.0   \n",
       "30             48600.0             680           83.6   \n",
       "65             63750.0             587           81.8   \n",
       "68             52800.0             527           80.0   \n",
       "99            212000.0             670           80.0   \n",
       "101           109250.0             601           95.0   \n",
       "102           192600.0             663           90.0   \n",
       "115           128000.0             501           80.0   \n",
       "120            90000.0             665           80.0   \n",
       "\n",
       "     Interest_Rate_orig_time  hpi_orig_time  default_time  \n",
       "23                     9.200          87.03             1  \n",
       "25                     7.680         186.91             0  \n",
       "30                     8.750          89.58             0  \n",
       "65                    10.500          97.99             0  \n",
       "68                     9.155         186.91             0  \n",
       "99                     6.580         191.42             1  \n",
       "101                    9.000         186.91             0  \n",
       "102                    7.250         186.91             0  \n",
       "115                    8.000         186.91             1  \n",
       "120                    7.200         186.91             1  "
      ]
     },
     "execution_count": 19,
     "metadata": {},
     "output_type": "execute_result"
    }
   ],
   "source": [
    "# Checking the values at the latest observation time\n",
    "df_target[idx].head(10)"
   ]
  },
  {
   "cell_type": "code",
   "execution_count": 20,
   "metadata": {},
   "outputs": [],
   "source": [
    "# select only the columns: 'id' and 'default_time'\n",
    "df_target = df_target[idx][['id', 'default_time']]"
   ]
  },
  {
   "cell_type": "code",
   "execution_count": 21,
   "metadata": {},
   "outputs": [],
   "source": [
    "df_target.drop_duplicates(subset=None, keep=\"first\", inplace=True)"
   ]
  },
  {
   "cell_type": "code",
   "execution_count": 22,
   "metadata": {},
   "outputs": [
    {
     "data": {
      "text/html": [
       "<div>\n",
       "<style scoped>\n",
       "    .dataframe tbody tr th:only-of-type {\n",
       "        vertical-align: middle;\n",
       "    }\n",
       "\n",
       "    .dataframe tbody tr th {\n",
       "        vertical-align: top;\n",
       "    }\n",
       "\n",
       "    .dataframe thead th {\n",
       "        text-align: right;\n",
       "    }\n",
       "</style>\n",
       "<table border=\"1\" class=\"dataframe\">\n",
       "  <thead>\n",
       "    <tr style=\"text-align: right;\">\n",
       "      <th></th>\n",
       "      <th>id</th>\n",
       "      <th>default_time</th>\n",
       "    </tr>\n",
       "  </thead>\n",
       "  <tbody>\n",
       "    <tr>\n",
       "      <th>23</th>\n",
       "      <td>1</td>\n",
       "      <td>1</td>\n",
       "    </tr>\n",
       "    <tr>\n",
       "      <th>25</th>\n",
       "      <td>2</td>\n",
       "      <td>0</td>\n",
       "    </tr>\n",
       "    <tr>\n",
       "      <th>30</th>\n",
       "      <td>3</td>\n",
       "      <td>0</td>\n",
       "    </tr>\n",
       "    <tr>\n",
       "      <th>65</th>\n",
       "      <td>4</td>\n",
       "      <td>0</td>\n",
       "    </tr>\n",
       "    <tr>\n",
       "      <th>68</th>\n",
       "      <td>5</td>\n",
       "      <td>0</td>\n",
       "    </tr>\n",
       "    <tr>\n",
       "      <th>...</th>\n",
       "      <td>...</td>\n",
       "      <td>...</td>\n",
       "    </tr>\n",
       "    <tr>\n",
       "      <th>622452</th>\n",
       "      <td>49996</td>\n",
       "      <td>0</td>\n",
       "    </tr>\n",
       "    <tr>\n",
       "      <th>622461</th>\n",
       "      <td>49997</td>\n",
       "      <td>0</td>\n",
       "    </tr>\n",
       "    <tr>\n",
       "      <th>622470</th>\n",
       "      <td>49998</td>\n",
       "      <td>0</td>\n",
       "    </tr>\n",
       "    <tr>\n",
       "      <th>622479</th>\n",
       "      <td>49999</td>\n",
       "      <td>0</td>\n",
       "    </tr>\n",
       "    <tr>\n",
       "      <th>622488</th>\n",
       "      <td>50000</td>\n",
       "      <td>0</td>\n",
       "    </tr>\n",
       "  </tbody>\n",
       "</table>\n",
       "<p>50000 rows × 2 columns</p>\n",
       "</div>"
      ],
      "text/plain": [
       "           id  default_time\n",
       "23          1             1\n",
       "25          2             0\n",
       "30          3             0\n",
       "65          4             0\n",
       "68          5             0\n",
       "...       ...           ...\n",
       "622452  49996             0\n",
       "622461  49997             0\n",
       "622470  49998             0\n",
       "622479  49999             0\n",
       "622488  50000             0\n",
       "\n",
       "[50000 rows x 2 columns]"
      ]
     },
     "execution_count": 22,
     "metadata": {},
     "output_type": "execute_result"
    }
   ],
   "source": [
    "df_target"
   ]
  },
  {
   "cell_type": "code",
   "execution_count": 23,
   "metadata": {},
   "outputs": [],
   "source": [
    "# merging df_firstObs and df_target to obtain the final clean dataset\n",
    "mortgage_clean = pd.merge(df_firstObs, df_target, how=\"left\", on=\"id\")"
   ]
  },
  {
   "cell_type": "code",
   "execution_count": 24,
   "metadata": {},
   "outputs": [],
   "source": [
    "mortgage_clean.drop_duplicates(['id'], keep=\"first\", inplace=True)"
   ]
  },
  {
   "cell_type": "markdown",
   "metadata": {},
   "source": [
    "The variables 'id' and 'first_time' are no longer needed, the timestamp of first observation ('time') could be important to indicate if mortgages observed for the first time at a specific timestamp will default more than others."
   ]
  },
  {
   "cell_type": "code",
   "execution_count": 25,
   "metadata": {},
   "outputs": [],
   "source": [
    "mortgage_clean.drop(columns=['id', 'first_time'], inplace = True)"
   ]
  },
  {
   "cell_type": "code",
   "execution_count": 26,
   "metadata": {},
   "outputs": [
    {
     "name": "stdout",
     "output_type": "stream",
     "text": [
      "<class 'pandas.core.frame.DataFrame'>\n",
      "Int64Index: 49998 entries, 0 to 49997\n",
      "Data columns (total 18 columns):\n",
      " #   Column                   Non-Null Count  Dtype  \n",
      "---  ------                   --------------  -----  \n",
      " 0   time                     49998 non-null  int64  \n",
      " 1   orig_time                49998 non-null  int64  \n",
      " 2   mat_time                 49998 non-null  int64  \n",
      " 3   balance_time             49998 non-null  float64\n",
      " 4   interest_rate_time       49998 non-null  float64\n",
      " 5   hpi_time                 49998 non-null  float64\n",
      " 6   gdp_time                 49998 non-null  float64\n",
      " 7   uer_time                 49998 non-null  float64\n",
      " 8   REtype_CO_orig_time      49998 non-null  int64  \n",
      " 9   REtype_PU_orig_time      49998 non-null  int64  \n",
      " 10  REtype_SF_orig_time      49998 non-null  int64  \n",
      " 11  investor_orig_time       49998 non-null  int64  \n",
      " 12  balance_orig_time        49998 non-null  float64\n",
      " 13  FICO_orig_time           49998 non-null  int64  \n",
      " 14  LTV_orig_time            49998 non-null  float64\n",
      " 15  Interest_Rate_orig_time  49998 non-null  float64\n",
      " 16  hpi_orig_time            49998 non-null  float64\n",
      " 17  default_time             49998 non-null  int64  \n",
      "dtypes: float64(9), int64(9)\n",
      "memory usage: 7.2 MB\n"
     ]
    }
   ],
   "source": [
    "mortgage_clean.info()"
   ]
  },
  {
   "cell_type": "markdown",
   "metadata": {},
   "source": [
    "The clean dataset has 49998 observations: 16 variables and the target variable 'default_time'"
   ]
  },
  {
   "cell_type": "code",
   "execution_count": 27,
   "metadata": {},
   "outputs": [
    {
     "data": {
      "text/html": [
       "<div>\n",
       "<style scoped>\n",
       "    .dataframe tbody tr th:only-of-type {\n",
       "        vertical-align: middle;\n",
       "    }\n",
       "\n",
       "    .dataframe tbody tr th {\n",
       "        vertical-align: top;\n",
       "    }\n",
       "\n",
       "    .dataframe thead th {\n",
       "        text-align: right;\n",
       "    }\n",
       "</style>\n",
       "<table border=\"1\" class=\"dataframe\">\n",
       "  <thead>\n",
       "    <tr style=\"text-align: right;\">\n",
       "      <th></th>\n",
       "      <th>time</th>\n",
       "      <th>orig_time</th>\n",
       "      <th>mat_time</th>\n",
       "      <th>balance_time</th>\n",
       "      <th>interest_rate_time</th>\n",
       "      <th>hpi_time</th>\n",
       "      <th>gdp_time</th>\n",
       "      <th>uer_time</th>\n",
       "      <th>REtype_CO_orig_time</th>\n",
       "      <th>REtype_PU_orig_time</th>\n",
       "      <th>REtype_SF_orig_time</th>\n",
       "      <th>investor_orig_time</th>\n",
       "      <th>balance_orig_time</th>\n",
       "      <th>FICO_orig_time</th>\n",
       "      <th>LTV_orig_time</th>\n",
       "      <th>Interest_Rate_orig_time</th>\n",
       "      <th>hpi_orig_time</th>\n",
       "      <th>default_time</th>\n",
       "    </tr>\n",
       "  </thead>\n",
       "  <tbody>\n",
       "    <tr>\n",
       "      <th>0</th>\n",
       "      <td>25</td>\n",
       "      <td>-7</td>\n",
       "      <td>113</td>\n",
       "      <td>41303.42</td>\n",
       "      <td>9.200</td>\n",
       "      <td>226.29</td>\n",
       "      <td>2.899137</td>\n",
       "      <td>4.7</td>\n",
       "      <td>0</td>\n",
       "      <td>0</td>\n",
       "      <td>1</td>\n",
       "      <td>0</td>\n",
       "      <td>45000.0</td>\n",
       "      <td>715</td>\n",
       "      <td>69.4</td>\n",
       "      <td>9.200</td>\n",
       "      <td>87.03</td>\n",
       "      <td>1</td>\n",
       "    </tr>\n",
       "    <tr>\n",
       "      <th>1</th>\n",
       "      <td>25</td>\n",
       "      <td>18</td>\n",
       "      <td>138</td>\n",
       "      <td>105826.38</td>\n",
       "      <td>7.680</td>\n",
       "      <td>226.29</td>\n",
       "      <td>2.899137</td>\n",
       "      <td>4.7</td>\n",
       "      <td>0</td>\n",
       "      <td>0</td>\n",
       "      <td>1</td>\n",
       "      <td>0</td>\n",
       "      <td>107200.0</td>\n",
       "      <td>558</td>\n",
       "      <td>80.0</td>\n",
       "      <td>7.680</td>\n",
       "      <td>186.91</td>\n",
       "      <td>0</td>\n",
       "    </tr>\n",
       "    <tr>\n",
       "      <th>2</th>\n",
       "      <td>25</td>\n",
       "      <td>-6</td>\n",
       "      <td>114</td>\n",
       "      <td>44866.18</td>\n",
       "      <td>10.500</td>\n",
       "      <td>226.29</td>\n",
       "      <td>2.899137</td>\n",
       "      <td>4.7</td>\n",
       "      <td>0</td>\n",
       "      <td>0</td>\n",
       "      <td>1</td>\n",
       "      <td>0</td>\n",
       "      <td>48600.0</td>\n",
       "      <td>680</td>\n",
       "      <td>83.6</td>\n",
       "      <td>8.750</td>\n",
       "      <td>89.58</td>\n",
       "      <td>0</td>\n",
       "    </tr>\n",
       "    <tr>\n",
       "      <th>3</th>\n",
       "      <td>25</td>\n",
       "      <td>-2</td>\n",
       "      <td>119</td>\n",
       "      <td>61031.10</td>\n",
       "      <td>10.500</td>\n",
       "      <td>226.29</td>\n",
       "      <td>2.899137</td>\n",
       "      <td>4.7</td>\n",
       "      <td>0</td>\n",
       "      <td>0</td>\n",
       "      <td>1</td>\n",
       "      <td>0</td>\n",
       "      <td>63750.0</td>\n",
       "      <td>587</td>\n",
       "      <td>81.8</td>\n",
       "      <td>10.500</td>\n",
       "      <td>97.99</td>\n",
       "      <td>0</td>\n",
       "    </tr>\n",
       "    <tr>\n",
       "      <th>4</th>\n",
       "      <td>25</td>\n",
       "      <td>18</td>\n",
       "      <td>138</td>\n",
       "      <td>52295.07</td>\n",
       "      <td>9.155</td>\n",
       "      <td>226.29</td>\n",
       "      <td>2.899137</td>\n",
       "      <td>4.7</td>\n",
       "      <td>0</td>\n",
       "      <td>0</td>\n",
       "      <td>1</td>\n",
       "      <td>0</td>\n",
       "      <td>52800.0</td>\n",
       "      <td>527</td>\n",
       "      <td>80.0</td>\n",
       "      <td>9.155</td>\n",
       "      <td>186.91</td>\n",
       "      <td>0</td>\n",
       "    </tr>\n",
       "  </tbody>\n",
       "</table>\n",
       "</div>"
      ],
      "text/plain": [
       "   time  orig_time  mat_time  balance_time  interest_rate_time  hpi_time  \\\n",
       "0    25         -7       113      41303.42               9.200    226.29   \n",
       "1    25         18       138     105826.38               7.680    226.29   \n",
       "2    25         -6       114      44866.18              10.500    226.29   \n",
       "3    25         -2       119      61031.10              10.500    226.29   \n",
       "4    25         18       138      52295.07               9.155    226.29   \n",
       "\n",
       "   gdp_time  uer_time  REtype_CO_orig_time  REtype_PU_orig_time  \\\n",
       "0  2.899137       4.7                    0                    0   \n",
       "1  2.899137       4.7                    0                    0   \n",
       "2  2.899137       4.7                    0                    0   \n",
       "3  2.899137       4.7                    0                    0   \n",
       "4  2.899137       4.7                    0                    0   \n",
       "\n",
       "   REtype_SF_orig_time  investor_orig_time  balance_orig_time  FICO_orig_time  \\\n",
       "0                    1                   0            45000.0             715   \n",
       "1                    1                   0           107200.0             558   \n",
       "2                    1                   0            48600.0             680   \n",
       "3                    1                   0            63750.0             587   \n",
       "4                    1                   0            52800.0             527   \n",
       "\n",
       "   LTV_orig_time  Interest_Rate_orig_time  hpi_orig_time  default_time  \n",
       "0           69.4                    9.200          87.03             1  \n",
       "1           80.0                    7.680         186.91             0  \n",
       "2           83.6                    8.750          89.58             0  \n",
       "3           81.8                   10.500          97.99             0  \n",
       "4           80.0                    9.155         186.91             0  "
      ]
     },
     "execution_count": 27,
     "metadata": {},
     "output_type": "execute_result"
    }
   ],
   "source": [
    "mortgage_clean.head()"
   ]
  },
  {
   "cell_type": "code",
   "execution_count": 28,
   "metadata": {},
   "outputs": [
    {
     "data": {
      "text/plain": [
       "0    34845\n",
       "1    15153\n",
       "Name: default_time, dtype: int64"
      ]
     },
     "execution_count": 28,
     "metadata": {},
     "output_type": "execute_result"
    }
   ],
   "source": [
    "mortgage_clean['default_time'].value_counts()"
   ]
  },
  {
   "cell_type": "markdown",
   "metadata": {},
   "source": [
    "The dataset is unbalanced: the target variable indicate that the number of non default observations is more than twice the number of the defalt observations. This needs to be considered when chosing the metric for model evaluation."
   ]
  },
  {
   "cell_type": "markdown",
   "metadata": {},
   "source": [
    "## Modelling"
   ]
  },
  {
   "cell_type": "code",
   "execution_count": 29,
   "metadata": {},
   "outputs": [],
   "source": [
    "X = mortgage_clean.iloc[:, :16].copy()\n",
    "y = mortgage_clean['default_time'].copy()"
   ]
  },
  {
   "cell_type": "code",
   "execution_count": 30,
   "metadata": {},
   "outputs": [
    {
     "data": {
      "text/plain": [
       "((34998, 16), (15000, 16), (34998,), (15000,))"
      ]
     },
     "execution_count": 30,
     "metadata": {},
     "output_type": "execute_result"
    }
   ],
   "source": [
    "# split train and test data\n",
    "X_train, X_test, y_train, y_test = train_test_split(X, y, test_size=0.3, random_state=17)\n",
    "X_train.shape, X_test.shape, y_train.shape, y_test.shape"
   ]
  },
  {
   "cell_type": "markdown",
   "metadata": {},
   "source": [
    "### 1) Develop Model-1"
   ]
  },
  {
   "cell_type": "markdown",
   "metadata": {},
   "source": [
    "A Random Forest Classifier model is selected: it is an ensemble method and a tree-based model. Ensemble methods have in general better performance than other methods because they made prediction using an overall result from a great number of simpler models (in the case of a classifier a majority vote is used as overall measure to assign the class).  \n",
    "It uses partitioning of the variables space, it does not require variables normalisation. \n",
    "\n",
    "A basic random forest model is defined and a random_state is set for reproducibility and n_jobs is set for jobs to run in parallel."
   ]
  },
  {
   "cell_type": "code",
   "execution_count": 31,
   "metadata": {},
   "outputs": [],
   "source": [
    "model_1 = RandomForestClassifier(random_state=147, n_jobs=-1)"
   ]
  },
  {
   "cell_type": "markdown",
   "metadata": {},
   "source": [
    "Grid search is used to find the best set of hyper-parameters for the model. Cross-validation is used for each combination of values in the parameters dictionary. The recall is chosen as scoring metric: it tells how good is the classifier in finding all the positive (default) observations."
   ]
  },
  {
   "cell_type": "code",
   "execution_count": 32,
   "metadata": {},
   "outputs": [],
   "source": [
    "parameters = {\n",
    "              'max_depth': [5, 10, 20],\n",
    "              'n_estimators': [200, 400, 600]\n",
    "}"
   ]
  },
  {
   "cell_type": "code",
   "execution_count": 33,
   "metadata": {},
   "outputs": [],
   "source": [
    "cv_model_1 = GridSearchCV(model_1, param_grid = parameters, cv=10, verbose=1, scoring='recall')"
   ]
  },
  {
   "cell_type": "code",
   "execution_count": 34,
   "metadata": {},
   "outputs": [
    {
     "name": "stdout",
     "output_type": "stream",
     "text": [
      "Fitting 10 folds for each of 9 candidates, totalling 90 fits\n"
     ]
    },
    {
     "data": {
      "text/plain": [
       "GridSearchCV(cv=10,\n",
       "             estimator=RandomForestClassifier(n_jobs=-1, random_state=147),\n",
       "             param_grid={'max_depth': [5, 10, 20],\n",
       "                         'n_estimators': [200, 400, 600]},\n",
       "             scoring='recall', verbose=1)"
      ]
     },
     "execution_count": 34,
     "metadata": {},
     "output_type": "execute_result"
    }
   ],
   "source": [
    "cv_model_1.fit(X_train, y_train)"
   ]
  },
  {
   "cell_type": "markdown",
   "metadata": {},
   "source": [
    "The best parameters combination found by grid search algorithm and the best estimator:"
   ]
  },
  {
   "cell_type": "code",
   "execution_count": 35,
   "metadata": {
    "tags": []
   },
   "outputs": [
    {
     "name": "stdout",
     "output_type": "stream",
     "text": [
      "{'max_depth': 20, 'n_estimators': 200}\n",
      "RandomForestClassifier(max_depth=20, n_estimators=200, n_jobs=-1,\n",
      "                       random_state=147)\n"
     ]
    }
   ],
   "source": [
    "print(cv_model_1.best_params_)\n",
    "print(cv_model_1.best_estimator_)"
   ]
  },
  {
   "cell_type": "markdown",
   "metadata": {},
   "source": [
    "The best model is fitted and used to predict the taget on the test set."
   ]
  },
  {
   "cell_type": "code",
   "execution_count": 36,
   "metadata": {},
   "outputs": [],
   "source": [
    "model_1_best = cv_model_1.best_estimator_"
   ]
  },
  {
   "cell_type": "code",
   "execution_count": 37,
   "metadata": {},
   "outputs": [
    {
     "data": {
      "text/plain": [
       "RandomForestClassifier(max_depth=20, n_estimators=200, n_jobs=-1,\n",
       "                       random_state=147)"
      ]
     },
     "execution_count": 37,
     "metadata": {},
     "output_type": "execute_result"
    }
   ],
   "source": [
    "model_1_best.fit(X_train, y_train)"
   ]
  },
  {
   "cell_type": "markdown",
   "metadata": {},
   "source": [
    "The predictions are made on the test dataset with our model using the predict() method to return the class, the underlying default calculation uses the probability score and the threshold of 0.5 for positiveness."
   ]
  },
  {
   "cell_type": "code",
   "execution_count": 38,
   "metadata": {},
   "outputs": [],
   "source": [
    "y_pred_best = model_1_best.predict(X_test)"
   ]
  },
  {
   "cell_type": "code",
   "execution_count": 39,
   "metadata": {},
   "outputs": [
    {
     "name": "stdout",
     "output_type": "stream",
     "text": [
      "              precision    recall  f1-score   support\n",
      "\n",
      "           0       0.78      0.87      0.82     10456\n",
      "           1       0.60      0.44      0.51      4544\n",
      "\n",
      "    accuracy                           0.74     15000\n",
      "   macro avg       0.69      0.65      0.66     15000\n",
      "weighted avg       0.73      0.74      0.73     15000\n",
      "\n"
     ]
    }
   ],
   "source": [
    "print(classification_report(y_test, y_pred_best))"
   ]
  },
  {
   "cell_type": "code",
   "execution_count": 40,
   "metadata": {},
   "outputs": [
    {
     "name": "stdout",
     "output_type": "stream",
     "text": [
      "model_1_best metrics for performance\n",
      "Recall:  0.4381602112676056 \n",
      "Precision:  0.5962863132674453\n"
     ]
    }
   ],
   "source": [
    "print(\"model_1_best metrics for performance\")\n",
    "print(\"Recall: \", recall_score(y_test, y_pred_best), \"\\nPrecision: \", precision_score(y_test, y_pred_best))"
   ]
  },
  {
   "cell_type": "markdown",
   "metadata": {},
   "source": [
    "The confusion matrix shows us how the model classify the test observations."
   ]
  },
  {
   "cell_type": "code",
   "execution_count": 41,
   "metadata": {},
   "outputs": [
    {
     "data": {
      "text/plain": [
       "<matplotlib.axes._subplots.AxesSubplot at 0x294ffae35c8>"
      ]
     },
     "execution_count": 41,
     "metadata": {},
     "output_type": "execute_result"
    },
    {
     "data": {
      "image/png": "[encoded data removed]",
      "text/plain": [
       "<Figure size 576x432 with 2 Axes>"
      ]
     },
     "metadata": {},
     "output_type": "display_data"
    }
   ],
   "source": [
    "cm = confusion_matrix(y_test, y_pred_best)\n",
    "plt.figure(figsize=[8, 6])\n",
    "sns.heatmap(cm, annot=cm, fmt='g', cmap='Blues', annot_kws={\"size\": 18})"
   ]
  },
  {
   "cell_type": "markdown",
   "metadata": {},
   "source": [
    "### 2) Identify which variables are the most predictive of mortgage default"
   ]
  },
  {
   "cell_type": "markdown",
   "metadata": {},
   "source": [
    "feature_importances_ values for each variable are extracted from model_1_best in the prediction of mortgage default"
   ]
  },
  {
   "cell_type": "code",
   "execution_count": 42,
   "metadata": {},
   "outputs": [
    {
     "data": {
      "image/png": "[encoded data removed]",
      "text/plain": [
       "<Figure size 432x288 with 1 Axes>"
      ]
     },
     "metadata": {},
     "output_type": "display_data"
    }
   ],
   "source": [
    "plt.bar(X_train.columns, model_1_best.feature_importances_)\n",
    "plt.xticks(rotation=90)\n",
    "plt.show()"
   ]
  },
  {
   "cell_type": "code",
   "execution_count": 43,
   "metadata": {},
   "outputs": [
    {
     "data": {
      "text/html": [
       "<div>\n",
       "<style scoped>\n",
       "    .dataframe tbody tr th:only-of-type {\n",
       "        vertical-align: middle;\n",
       "    }\n",
       "\n",
       "    .dataframe tbody tr th {\n",
       "        vertical-align: top;\n",
       "    }\n",
       "\n",
       "    .dataframe thead th {\n",
       "        text-align: right;\n",
       "    }\n",
       "</style>\n",
       "<table border=\"1\" class=\"dataframe\">\n",
       "  <thead>\n",
       "    <tr style=\"text-align: right;\">\n",
       "      <th></th>\n",
       "      <th>cols</th>\n",
       "      <th>importance</th>\n",
       "    </tr>\n",
       "  </thead>\n",
       "  <tbody>\n",
       "    <tr>\n",
       "      <th>13</th>\n",
       "      <td>FICO_orig_time</td>\n",
       "      <td>0.134773</td>\n",
       "    </tr>\n",
       "    <tr>\n",
       "      <th>3</th>\n",
       "      <td>balance_time</td>\n",
       "      <td>0.119057</td>\n",
       "    </tr>\n",
       "    <tr>\n",
       "      <th>4</th>\n",
       "      <td>interest_rate_time</td>\n",
       "      <td>0.114135</td>\n",
       "    </tr>\n",
       "    <tr>\n",
       "      <th>12</th>\n",
       "      <td>balance_orig_time</td>\n",
       "      <td>0.113390</td>\n",
       "    </tr>\n",
       "    <tr>\n",
       "      <th>2</th>\n",
       "      <td>mat_time</td>\n",
       "      <td>0.098458</td>\n",
       "    </tr>\n",
       "    <tr>\n",
       "      <th>14</th>\n",
       "      <td>LTV_orig_time</td>\n",
       "      <td>0.083740</td>\n",
       "    </tr>\n",
       "    <tr>\n",
       "      <th>15</th>\n",
       "      <td>Interest_Rate_orig_time</td>\n",
       "      <td>0.078117</td>\n",
       "    </tr>\n",
       "    <tr>\n",
       "      <th>1</th>\n",
       "      <td>orig_time</td>\n",
       "      <td>0.070436</td>\n",
       "    </tr>\n",
       "    <tr>\n",
       "      <th>0</th>\n",
       "      <td>time</td>\n",
       "      <td>0.045095</td>\n",
       "    </tr>\n",
       "    <tr>\n",
       "      <th>7</th>\n",
       "      <td>uer_time</td>\n",
       "      <td>0.036583</td>\n",
       "    </tr>\n",
       "    <tr>\n",
       "      <th>6</th>\n",
       "      <td>gdp_time</td>\n",
       "      <td>0.032324</td>\n",
       "    </tr>\n",
       "    <tr>\n",
       "      <th>5</th>\n",
       "      <td>hpi_time</td>\n",
       "      <td>0.029664</td>\n",
       "    </tr>\n",
       "    <tr>\n",
       "      <th>10</th>\n",
       "      <td>REtype_SF_orig_time</td>\n",
       "      <td>0.015242</td>\n",
       "    </tr>\n",
       "    <tr>\n",
       "      <th>11</th>\n",
       "      <td>investor_orig_time</td>\n",
       "      <td>0.011494</td>\n",
       "    </tr>\n",
       "    <tr>\n",
       "      <th>9</th>\n",
       "      <td>REtype_PU_orig_time</td>\n",
       "      <td>0.009670</td>\n",
       "    </tr>\n",
       "    <tr>\n",
       "      <th>8</th>\n",
       "      <td>REtype_CO_orig_time</td>\n",
       "      <td>0.007823</td>\n",
       "    </tr>\n",
       "  </tbody>\n",
       "</table>\n",
       "</div>"
      ],
      "text/plain": [
       "                       cols  importance\n",
       "13           FICO_orig_time    0.134773\n",
       "3              balance_time    0.119057\n",
       "4        interest_rate_time    0.114135\n",
       "12        balance_orig_time    0.113390\n",
       "2                  mat_time    0.098458\n",
       "14            LTV_orig_time    0.083740\n",
       "15  Interest_Rate_orig_time    0.078117\n",
       "1                 orig_time    0.070436\n",
       "0                      time    0.045095\n",
       "7                  uer_time    0.036583\n",
       "6                  gdp_time    0.032324\n",
       "5                  hpi_time    0.029664\n",
       "10      REtype_SF_orig_time    0.015242\n",
       "11       investor_orig_time    0.011494\n",
       "9       REtype_PU_orig_time    0.009670\n",
       "8       REtype_CO_orig_time    0.007823"
      ]
     },
     "execution_count": 43,
     "metadata": {},
     "output_type": "execute_result"
    }
   ],
   "source": [
    "importance = pd.DataFrame()\n",
    "importance['cols'] = X_train.columns\n",
    "importance['importance'] = model_1_best.feature_importances_\n",
    "importance.sort_values(by='importance', ascending=False, inplace=True)\n",
    "importance"
   ]
  },
  {
   "cell_type": "markdown",
   "metadata": {},
   "source": [
    "The most important variable is the 'FICO_orig_time' with an importance of 0.134773"
   ]
  },
  {
   "cell_type": "markdown",
   "metadata": {},
   "source": [
    "### 3) Identify any highly correlated pairs of variables"
   ]
  },
  {
   "cell_type": "markdown",
   "metadata": {},
   "source": [
    "Correlation between variables assume an underlying linear relationship between them, this is an 'a priori' assumption on the form of reletionship between the variables<br>\n",
    "Correlation matrix for the variables"
   ]
  },
  {
   "cell_type": "code",
   "execution_count": 45,
   "metadata": {},
   "outputs": [
    {
     "data": {
      "text/html": [
       "<div>\n",
       "<style scoped>\n",
       "    .dataframe tbody tr th:only-of-type {\n",
       "        vertical-align: middle;\n",
       "    }\n",
       "\n",
       "    .dataframe tbody tr th {\n",
       "        vertical-align: top;\n",
       "    }\n",
       "\n",
       "    .dataframe thead th {\n",
       "        text-align: right;\n",
       "    }\n",
       "</style>\n",
       "<table border=\"1\" class=\"dataframe\">\n",
       "  <thead>\n",
       "    <tr style=\"text-align: right;\">\n",
       "      <th></th>\n",
       "      <th>time</th>\n",
       "      <th>orig_time</th>\n",
       "      <th>mat_time</th>\n",
       "      <th>balance_time</th>\n",
       "      <th>interest_rate_time</th>\n",
       "      <th>hpi_time</th>\n",
       "      <th>gdp_time</th>\n",
       "      <th>uer_time</th>\n",
       "      <th>REtype_CO_orig_time</th>\n",
       "      <th>REtype_PU_orig_time</th>\n",
       "      <th>REtype_SF_orig_time</th>\n",
       "      <th>investor_orig_time</th>\n",
       "      <th>balance_orig_time</th>\n",
       "      <th>FICO_orig_time</th>\n",
       "      <th>LTV_orig_time</th>\n",
       "      <th>Interest_Rate_orig_time</th>\n",
       "    </tr>\n",
       "  </thead>\n",
       "  <tbody>\n",
       "    <tr>\n",
       "      <th>time</th>\n",
       "      <td>1.000000</td>\n",
       "      <td>0.608801</td>\n",
       "      <td>0.324953</td>\n",
       "      <td>0.107368</td>\n",
       "      <td>-0.123508</td>\n",
       "      <td>0.230207</td>\n",
       "      <td>-0.648211</td>\n",
       "      <td>0.397733</td>\n",
       "      <td>0.010362</td>\n",
       "      <td>-0.000980</td>\n",
       "      <td>-0.017708</td>\n",
       "      <td>-0.018866</td>\n",
       "      <td>0.115489</td>\n",
       "      <td>0.029412</td>\n",
       "      <td>0.001100</td>\n",
       "      <td>0.051418</td>\n",
       "    </tr>\n",
       "    <tr>\n",
       "      <th>orig_time</th>\n",
       "      <td>0.608801</td>\n",
       "      <td>1.000000</td>\n",
       "      <td>0.585898</td>\n",
       "      <td>0.230231</td>\n",
       "      <td>-0.112873</td>\n",
       "      <td>0.421183</td>\n",
       "      <td>-0.481192</td>\n",
       "      <td>-0.062745</td>\n",
       "      <td>0.028506</td>\n",
       "      <td>0.058906</td>\n",
       "      <td>-0.050854</td>\n",
       "      <td>0.031786</td>\n",
       "      <td>0.223251</td>\n",
       "      <td>0.150874</td>\n",
       "      <td>-0.032312</td>\n",
       "      <td>-0.011279</td>\n",
       "    </tr>\n",
       "    <tr>\n",
       "      <th>mat_time</th>\n",
       "      <td>0.324953</td>\n",
       "      <td>0.585898</td>\n",
       "      <td>1.000000</td>\n",
       "      <td>0.203762</td>\n",
       "      <td>-0.082527</td>\n",
       "      <td>0.287478</td>\n",
       "      <td>-0.299292</td>\n",
       "      <td>-0.109355</td>\n",
       "      <td>0.030354</td>\n",
       "      <td>0.064413</td>\n",
       "      <td>-0.037712</td>\n",
       "      <td>-0.022114</td>\n",
       "      <td>0.191187</td>\n",
       "      <td>0.068435</td>\n",
       "      <td>0.056364</td>\n",
       "      <td>-0.130936</td>\n",
       "    </tr>\n",
       "    <tr>\n",
       "      <th>balance_time</th>\n",
       "      <td>0.107368</td>\n",
       "      <td>0.230231</td>\n",
       "      <td>0.203762</td>\n",
       "      <td>1.000000</td>\n",
       "      <td>-0.279353</td>\n",
       "      <td>0.108018</td>\n",
       "      <td>-0.080811</td>\n",
       "      <td>-0.045570</td>\n",
       "      <td>-0.010453</td>\n",
       "      <td>0.096408</td>\n",
       "      <td>-0.046212</td>\n",
       "      <td>-0.120515</td>\n",
       "      <td>0.996189</td>\n",
       "      <td>0.321133</td>\n",
       "      <td>-0.188571</td>\n",
       "      <td>-0.103237</td>\n",
       "    </tr>\n",
       "    <tr>\n",
       "      <th>interest_rate_time</th>\n",
       "      <td>-0.123508</td>\n",
       "      <td>-0.112873</td>\n",
       "      <td>-0.082527</td>\n",
       "      <td>-0.279353</td>\n",
       "      <td>1.000000</td>\n",
       "      <td>-0.074434</td>\n",
       "      <td>-0.110249</td>\n",
       "      <td>-0.239417</td>\n",
       "      <td>-0.047329</td>\n",
       "      <td>-0.092882</td>\n",
       "      <td>0.047995</td>\n",
       "      <td>0.032514</td>\n",
       "      <td>-0.284502</td>\n",
       "      <td>-0.427728</td>\n",
       "      <td>0.182110</td>\n",
       "      <td>0.256476</td>\n",
       "    </tr>\n",
       "    <tr>\n",
       "      <th>hpi_time</th>\n",
       "      <td>0.230207</td>\n",
       "      <td>0.421183</td>\n",
       "      <td>0.287478</td>\n",
       "      <td>0.108018</td>\n",
       "      <td>-0.074434</td>\n",
       "      <td>1.000000</td>\n",
       "      <td>-0.066335</td>\n",
       "      <td>-0.529347</td>\n",
       "      <td>0.041025</td>\n",
       "      <td>0.056254</td>\n",
       "      <td>-0.072140</td>\n",
       "      <td>0.026207</td>\n",
       "      <td>0.102336</td>\n",
       "      <td>0.127035</td>\n",
       "      <td>0.006782</td>\n",
       "      <td>-0.009940</td>\n",
       "    </tr>\n",
       "    <tr>\n",
       "      <th>gdp_time</th>\n",
       "      <td>-0.648211</td>\n",
       "      <td>-0.481192</td>\n",
       "      <td>-0.299292</td>\n",
       "      <td>-0.080811</td>\n",
       "      <td>-0.110249</td>\n",
       "      <td>-0.066335</td>\n",
       "      <td>1.000000</td>\n",
       "      <td>-0.106394</td>\n",
       "      <td>-0.011859</td>\n",
       "      <td>0.003618</td>\n",
       "      <td>-0.024260</td>\n",
       "      <td>0.011011</td>\n",
       "      <td>-0.082815</td>\n",
       "      <td>0.021998</td>\n",
       "      <td>-0.003954</td>\n",
       "      <td>-0.085856</td>\n",
       "    </tr>\n",
       "    <tr>\n",
       "      <th>uer_time</th>\n",
       "      <td>0.397733</td>\n",
       "      <td>-0.062745</td>\n",
       "      <td>-0.109355</td>\n",
       "      <td>-0.045570</td>\n",
       "      <td>-0.239417</td>\n",
       "      <td>-0.529347</td>\n",
       "      <td>-0.106394</td>\n",
       "      <td>1.000000</td>\n",
       "      <td>-0.027534</td>\n",
       "      <td>-0.041356</td>\n",
       "      <td>0.002995</td>\n",
       "      <td>-0.029231</td>\n",
       "      <td>-0.033720</td>\n",
       "      <td>-0.036295</td>\n",
       "      <td>0.010802</td>\n",
       "      <td>-0.128206</td>\n",
       "    </tr>\n",
       "    <tr>\n",
       "      <th>REtype_CO_orig_time</th>\n",
       "      <td>0.010362</td>\n",
       "      <td>0.028506</td>\n",
       "      <td>0.030354</td>\n",
       "      <td>-0.010453</td>\n",
       "      <td>-0.047329</td>\n",
       "      <td>0.041025</td>\n",
       "      <td>-0.011859</td>\n",
       "      <td>-0.027534</td>\n",
       "      <td>1.000000</td>\n",
       "      <td>-0.095387</td>\n",
       "      <td>-0.338613</td>\n",
       "      <td>0.024215</td>\n",
       "      <td>-0.011113</td>\n",
       "      <td>0.090732</td>\n",
       "      <td>0.005141</td>\n",
       "      <td>-0.024094</td>\n",
       "    </tr>\n",
       "    <tr>\n",
       "      <th>REtype_PU_orig_time</th>\n",
       "      <td>-0.000980</td>\n",
       "      <td>0.058906</td>\n",
       "      <td>0.064413</td>\n",
       "      <td>0.096408</td>\n",
       "      <td>-0.092882</td>\n",
       "      <td>0.056254</td>\n",
       "      <td>0.003618</td>\n",
       "      <td>-0.041356</td>\n",
       "      <td>-0.095387</td>\n",
       "      <td>1.000000</td>\n",
       "      <td>-0.465207</td>\n",
       "      <td>-0.017180</td>\n",
       "      <td>0.094904</td>\n",
       "      <td>0.123879</td>\n",
       "      <td>-0.003408</td>\n",
       "      <td>-0.027726</td>\n",
       "    </tr>\n",
       "    <tr>\n",
       "      <th>REtype_SF_orig_time</th>\n",
       "      <td>-0.017708</td>\n",
       "      <td>-0.050854</td>\n",
       "      <td>-0.037712</td>\n",
       "      <td>-0.046212</td>\n",
       "      <td>0.047995</td>\n",
       "      <td>-0.072140</td>\n",
       "      <td>-0.024260</td>\n",
       "      <td>0.002995</td>\n",
       "      <td>-0.338613</td>\n",
       "      <td>-0.465207</td>\n",
       "      <td>1.000000</td>\n",
       "      <td>-0.105197</td>\n",
       "      <td>-0.044885</td>\n",
       "      <td>-0.134769</td>\n",
       "      <td>0.009515</td>\n",
       "      <td>-0.009832</td>\n",
       "    </tr>\n",
       "    <tr>\n",
       "      <th>investor_orig_time</th>\n",
       "      <td>-0.018866</td>\n",
       "      <td>0.031786</td>\n",
       "      <td>-0.022114</td>\n",
       "      <td>-0.120515</td>\n",
       "      <td>0.032514</td>\n",
       "      <td>0.026207</td>\n",
       "      <td>0.011011</td>\n",
       "      <td>-0.029231</td>\n",
       "      <td>0.024215</td>\n",
       "      <td>-0.017180</td>\n",
       "      <td>-0.105197</td>\n",
       "      <td>1.000000</td>\n",
       "      <td>-0.121892</td>\n",
       "      <td>0.174805</td>\n",
       "      <td>-0.072957</td>\n",
       "      <td>0.088408</td>\n",
       "    </tr>\n",
       "    <tr>\n",
       "      <th>balance_orig_time</th>\n",
       "      <td>0.115489</td>\n",
       "      <td>0.223251</td>\n",
       "      <td>0.191187</td>\n",
       "      <td>0.996189</td>\n",
       "      <td>-0.284502</td>\n",
       "      <td>0.102336</td>\n",
       "      <td>-0.082815</td>\n",
       "      <td>-0.033720</td>\n",
       "      <td>-0.011113</td>\n",
       "      <td>0.094904</td>\n",
       "      <td>-0.044885</td>\n",
       "      <td>-0.121892</td>\n",
       "      <td>1.000000</td>\n",
       "      <td>0.322893</td>\n",
       "      <td>-0.190542</td>\n",
       "      <td>-0.102250</td>\n",
       "    </tr>\n",
       "    <tr>\n",
       "      <th>FICO_orig_time</th>\n",
       "      <td>0.029412</td>\n",
       "      <td>0.150874</td>\n",
       "      <td>0.068435</td>\n",
       "      <td>0.321133</td>\n",
       "      <td>-0.427728</td>\n",
       "      <td>0.127035</td>\n",
       "      <td>0.021998</td>\n",
       "      <td>-0.036295</td>\n",
       "      <td>0.090732</td>\n",
       "      <td>0.123879</td>\n",
       "      <td>-0.134769</td>\n",
       "      <td>0.174805</td>\n",
       "      <td>0.322893</td>\n",
       "      <td>1.000000</td>\n",
       "      <td>-0.107983</td>\n",
       "      <td>-0.080398</td>\n",
       "    </tr>\n",
       "    <tr>\n",
       "      <th>LTV_orig_time</th>\n",
       "      <td>0.001100</td>\n",
       "      <td>-0.032312</td>\n",
       "      <td>0.056364</td>\n",
       "      <td>-0.188571</td>\n",
       "      <td>0.182110</td>\n",
       "      <td>0.006782</td>\n",
       "      <td>-0.003954</td>\n",
       "      <td>0.010802</td>\n",
       "      <td>0.005141</td>\n",
       "      <td>-0.003408</td>\n",
       "      <td>0.009515</td>\n",
       "      <td>-0.072957</td>\n",
       "      <td>-0.190542</td>\n",
       "      <td>-0.107983</td>\n",
       "      <td>1.000000</td>\n",
       "      <td>0.010759</td>\n",
       "    </tr>\n",
       "    <tr>\n",
       "      <th>Interest_Rate_orig_time</th>\n",
       "      <td>0.051418</td>\n",
       "      <td>-0.011279</td>\n",
       "      <td>-0.130936</td>\n",
       "      <td>-0.103237</td>\n",
       "      <td>0.256476</td>\n",
       "      <td>-0.009940</td>\n",
       "      <td>-0.085856</td>\n",
       "      <td>-0.128206</td>\n",
       "      <td>-0.024094</td>\n",
       "      <td>-0.027726</td>\n",
       "      <td>-0.009832</td>\n",
       "      <td>0.088408</td>\n",
       "      <td>-0.102250</td>\n",
       "      <td>-0.080398</td>\n",
       "      <td>0.010759</td>\n",
       "      <td>1.000000</td>\n",
       "    </tr>\n",
       "  </tbody>\n",
       "</table>\n",
       "</div>"
      ],
      "text/plain": [
       "                             time  orig_time  mat_time  balance_time  \\\n",
       "time                     1.000000   0.608801  0.324953      0.107368   \n",
       "orig_time                0.608801   1.000000  0.585898      0.230231   \n",
       "mat_time                 0.324953   0.585898  1.000000      0.203762   \n",
       "balance_time             0.107368   0.230231  0.203762      1.000000   \n",
       "interest_rate_time      -0.123508  -0.112873 -0.082527     -0.279353   \n",
       "hpi_time                 0.230207   0.421183  0.287478      0.108018   \n",
       "gdp_time                -0.648211  -0.481192 -0.299292     -0.080811   \n",
       "uer_time                 0.397733  -0.062745 -0.109355     -0.045570   \n",
       "REtype_CO_orig_time      0.010362   0.028506  0.030354     -0.010453   \n",
       "REtype_PU_orig_time     -0.000980   0.058906  0.064413      0.096408   \n",
       "REtype_SF_orig_time     -0.017708  -0.050854 -0.037712     -0.046212   \n",
       "investor_orig_time      -0.018866   0.031786 -0.022114     -0.120515   \n",
       "balance_orig_time        0.115489   0.223251  0.191187      0.996189   \n",
       "FICO_orig_time           0.029412   0.150874  0.068435      0.321133   \n",
       "LTV_orig_time            0.001100  -0.032312  0.056364     -0.188571   \n",
       "Interest_Rate_orig_time  0.051418  -0.011279 -0.130936     -0.103237   \n",
       "\n",
       "                         interest_rate_time  hpi_time  gdp_time  uer_time  \\\n",
       "time                              -0.123508  0.230207 -0.648211  0.397733   \n",
       "orig_time                         -0.112873  0.421183 -0.481192 -0.062745   \n",
       "mat_time                          -0.082527  0.287478 -0.299292 -0.109355   \n",
       "balance_time                      -0.279353  0.108018 -0.080811 -0.045570   \n",
       "interest_rate_time                 1.000000 -0.074434 -0.110249 -0.239417   \n",
       "hpi_time                          -0.074434  1.000000 -0.066335 -0.529347   \n",
       "gdp_time                          -0.110249 -0.066335  1.000000 -0.106394   \n",
       "uer_time                          -0.239417 -0.529347 -0.106394  1.000000   \n",
       "REtype_CO_orig_time               -0.047329  0.041025 -0.011859 -0.027534   \n",
       "REtype_PU_orig_time               -0.092882  0.056254  0.003618 -0.041356   \n",
       "REtype_SF_orig_time                0.047995 -0.072140 -0.024260  0.002995   \n",
       "investor_orig_time                 0.032514  0.026207  0.011011 -0.029231   \n",
       "balance_orig_time                 -0.284502  0.102336 -0.082815 -0.033720   \n",
       "FICO_orig_time                    -0.427728  0.127035  0.021998 -0.036295   \n",
       "LTV_orig_time                      0.182110  0.006782 -0.003954  0.010802   \n",
       "Interest_Rate_orig_time            0.256476 -0.009940 -0.085856 -0.128206   \n",
       "\n",
       "                         REtype_CO_orig_time  REtype_PU_orig_time  \\\n",
       "time                                0.010362            -0.000980   \n",
       "orig_time                           0.028506             0.058906   \n",
       "mat_time                            0.030354             0.064413   \n",
       "balance_time                       -0.010453             0.096408   \n",
       "interest_rate_time                 -0.047329            -0.092882   \n",
       "hpi_time                            0.041025             0.056254   \n",
       "gdp_time                           -0.011859             0.003618   \n",
       "uer_time                           -0.027534            -0.041356   \n",
       "REtype_CO_orig_time                 1.000000            -0.095387   \n",
       "REtype_PU_orig_time                -0.095387             1.000000   \n",
       "REtype_SF_orig_time                -0.338613            -0.465207   \n",
       "investor_orig_time                  0.024215            -0.017180   \n",
       "balance_orig_time                  -0.011113             0.094904   \n",
       "FICO_orig_time                      0.090732             0.123879   \n",
       "LTV_orig_time                       0.005141            -0.003408   \n",
       "Interest_Rate_orig_time            -0.024094            -0.027726   \n",
       "\n",
       "                         REtype_SF_orig_time  investor_orig_time  \\\n",
       "time                               -0.017708           -0.018866   \n",
       "orig_time                          -0.050854            0.031786   \n",
       "mat_time                           -0.037712           -0.022114   \n",
       "balance_time                       -0.046212           -0.120515   \n",
       "interest_rate_time                  0.047995            0.032514   \n",
       "hpi_time                           -0.072140            0.026207   \n",
       "gdp_time                           -0.024260            0.011011   \n",
       "uer_time                            0.002995           -0.029231   \n",
       "REtype_CO_orig_time                -0.338613            0.024215   \n",
       "REtype_PU_orig_time                -0.465207           -0.017180   \n",
       "REtype_SF_orig_time                 1.000000           -0.105197   \n",
       "investor_orig_time                 -0.105197            1.000000   \n",
       "balance_orig_time                  -0.044885           -0.121892   \n",
       "FICO_orig_time                     -0.134769            0.174805   \n",
       "LTV_orig_time                       0.009515           -0.072957   \n",
       "Interest_Rate_orig_time            -0.009832            0.088408   \n",
       "\n",
       "                         balance_orig_time  FICO_orig_time  LTV_orig_time  \\\n",
       "time                              0.115489        0.029412       0.001100   \n",
       "orig_time                         0.223251        0.150874      -0.032312   \n",
       "mat_time                          0.191187        0.068435       0.056364   \n",
       "balance_time                      0.996189        0.321133      -0.188571   \n",
       "interest_rate_time               -0.284502       -0.427728       0.182110   \n",
       "hpi_time                          0.102336        0.127035       0.006782   \n",
       "gdp_time                         -0.082815        0.021998      -0.003954   \n",
       "uer_time                         -0.033720       -0.036295       0.010802   \n",
       "REtype_CO_orig_time              -0.011113        0.090732       0.005141   \n",
       "REtype_PU_orig_time               0.094904        0.123879      -0.003408   \n",
       "REtype_SF_orig_time              -0.044885       -0.134769       0.009515   \n",
       "investor_orig_time               -0.121892        0.174805      -0.072957   \n",
       "balance_orig_time                 1.000000        0.322893      -0.190542   \n",
       "FICO_orig_time                    0.322893        1.000000      -0.107983   \n",
       "LTV_orig_time                    -0.190542       -0.107983       1.000000   \n",
       "Interest_Rate_orig_time          -0.102250       -0.080398       0.010759   \n",
       "\n",
       "                         Interest_Rate_orig_time  \n",
       "time                                    0.051418  \n",
       "orig_time                              -0.011279  \n",
       "mat_time                               -0.130936  \n",
       "balance_time                           -0.103237  \n",
       "interest_rate_time                      0.256476  \n",
       "hpi_time                               -0.009940  \n",
       "gdp_time                               -0.085856  \n",
       "uer_time                               -0.128206  \n",
       "REtype_CO_orig_time                    -0.024094  \n",
       "REtype_PU_orig_time                    -0.027726  \n",
       "REtype_SF_orig_time                    -0.009832  \n",
       "investor_orig_time                      0.088408  \n",
       "balance_orig_time                      -0.102250  \n",
       "FICO_orig_time                         -0.080398  \n",
       "LTV_orig_time                           0.010759  \n",
       "Interest_Rate_orig_time                 1.000000  "
      ]
     },
     "execution_count": 45,
     "metadata": {},
     "output_type": "execute_result"
    }
   ],
   "source": [
    "corr_mx = mortgage_clean.iloc[:, :16].corr()\n",
    "corr_mx"
   ]
  },
  {
   "cell_type": "markdown",
   "metadata": {},
   "source": [
    "A heatmap visual is used to highlight the values"
   ]
  },
  {
   "cell_type": "code",
   "execution_count": 46,
   "metadata": {},
   "outputs": [
    {
     "data": {
      "image/png": "[encoded data removed]",
      "text/plain": [
       "<Figure size 1152x360 with 2 Axes>"
      ]
     },
     "metadata": {},
     "output_type": "display_data"
    }
   ],
   "source": [
    "plt.figure(figsize = (16, 5))\n",
    "sns.heatmap(corr_mx, annot=True, linewidths=2.5)\n",
    "plt.show()"
   ]
  },
  {
   "cell_type": "markdown",
   "metadata": {},
   "source": [
    "balance_time - balance_orig_time: highly positive correlation of 0.996189  \n",
    "time - gdp_time: negative correlation of -0.648211  \n",
    "time - orig_time: positive correlation of 0.608801  \n",
    "orig_time - mat_time: positive correlation of 0.585898  \n",
    "uer_time - hpi_time: negative correlation of -0.529347  "
   ]
  },
  {
   "cell_type": "markdown",
   "metadata": {},
   "source": [
    "### 4) Develop a second model (Model-2) that uses only 5 of the provided variables"
   ]
  },
  {
   "cell_type": "markdown",
   "metadata": {},
   "source": [
    "The 5 most important variables are selected based on the importance calculated at point 2) and retrieved to be used to develop the second model."
   ]
  },
  {
   "cell_type": "code",
   "execution_count": 47,
   "metadata": {},
   "outputs": [
    {
     "data": {
      "text/html": [
       "<div>\n",
       "<style scoped>\n",
       "    .dataframe tbody tr th:only-of-type {\n",
       "        vertical-align: middle;\n",
       "    }\n",
       "\n",
       "    .dataframe tbody tr th {\n",
       "        vertical-align: top;\n",
       "    }\n",
       "\n",
       "    .dataframe thead th {\n",
       "        text-align: right;\n",
       "    }\n",
       "</style>\n",
       "<table border=\"1\" class=\"dataframe\">\n",
       "  <thead>\n",
       "    <tr style=\"text-align: right;\">\n",
       "      <th></th>\n",
       "      <th>cols</th>\n",
       "      <th>importance</th>\n",
       "    </tr>\n",
       "  </thead>\n",
       "  <tbody>\n",
       "    <tr>\n",
       "      <th>13</th>\n",
       "      <td>FICO_orig_time</td>\n",
       "      <td>0.134773</td>\n",
       "    </tr>\n",
       "    <tr>\n",
       "      <th>3</th>\n",
       "      <td>balance_time</td>\n",
       "      <td>0.119057</td>\n",
       "    </tr>\n",
       "    <tr>\n",
       "      <th>4</th>\n",
       "      <td>interest_rate_time</td>\n",
       "      <td>0.114135</td>\n",
       "    </tr>\n",
       "    <tr>\n",
       "      <th>12</th>\n",
       "      <td>balance_orig_time</td>\n",
       "      <td>0.113390</td>\n",
       "    </tr>\n",
       "    <tr>\n",
       "      <th>2</th>\n",
       "      <td>mat_time</td>\n",
       "      <td>0.098458</td>\n",
       "    </tr>\n",
       "  </tbody>\n",
       "</table>\n",
       "</div>"
      ],
      "text/plain": [
       "                  cols  importance\n",
       "13      FICO_orig_time    0.134773\n",
       "3         balance_time    0.119057\n",
       "4   interest_rate_time    0.114135\n",
       "12   balance_orig_time    0.113390\n",
       "2             mat_time    0.098458"
      ]
     },
     "execution_count": 47,
     "metadata": {},
     "output_type": "execute_result"
    }
   ],
   "source": [
    "importance.head()"
   ]
  },
  {
   "cell_type": "code",
   "execution_count": 48,
   "metadata": {},
   "outputs": [],
   "source": [
    "var_5 = importance['cols'].head().values"
   ]
  },
  {
   "cell_type": "code",
   "execution_count": 49,
   "metadata": {},
   "outputs": [],
   "source": [
    "X_var5 = pd.DataFrame(mortgage_clean[var_5])"
   ]
  },
  {
   "cell_type": "code",
   "execution_count": 50,
   "metadata": {},
   "outputs": [
    {
     "data": {
      "text/plain": [
       "((34998, 5), (15000, 5), (34998,), (15000,))"
      ]
     },
     "execution_count": 50,
     "metadata": {},
     "output_type": "execute_result"
    }
   ],
   "source": [
    "# split train and test data\n",
    "X_train_5, X_test_5, y_train, y_test = train_test_split(X_var5, y, test_size=0.30, random_state=17)\n",
    "X_train_5.shape, X_test_5.shape, y_train.shape, y_test.shape"
   ]
  },
  {
   "cell_type": "markdown",
   "metadata": {},
   "source": [
    "A Random Forest classifier is used again with the reduced dataset: the same parameters dictionary and grid search are used for better comparison of performance."
   ]
  },
  {
   "cell_type": "code",
   "execution_count": 53,
   "metadata": {},
   "outputs": [],
   "source": [
    "model_2 = RandomForestClassifier(random_state=147, n_jobs=-1)"
   ]
  },
  {
   "cell_type": "code",
   "execution_count": 54,
   "metadata": {},
   "outputs": [],
   "source": [
    "cv_model_2 = GridSearchCV(model_2, param_grid = parameters, cv=10, verbose=1, scoring='recall')"
   ]
  },
  {
   "cell_type": "code",
   "execution_count": 55,
   "metadata": {},
   "outputs": [
    {
     "name": "stdout",
     "output_type": "stream",
     "text": [
      "Fitting 10 folds for each of 9 candidates, totalling 90 fits\n"
     ]
    },
    {
     "data": {
      "text/plain": [
       "GridSearchCV(cv=10,\n",
       "             estimator=RandomForestClassifier(n_jobs=-1, random_state=147),\n",
       "             param_grid={'max_depth': [5, 10, 20],\n",
       "                         'n_estimators': [200, 400, 600]},\n",
       "             scoring='recall', verbose=1)"
      ]
     },
     "execution_count": 55,
     "metadata": {},
     "output_type": "execute_result"
    }
   ],
   "source": [
    "cv_model_2.fit(X_train_5, y_train)"
   ]
  },
  {
   "cell_type": "code",
   "execution_count": 56,
   "metadata": {},
   "outputs": [
    {
     "name": "stdout",
     "output_type": "stream",
     "text": [
      "{'max_depth': 20, 'n_estimators': 600}\n",
      "RandomForestClassifier(max_depth=20, n_estimators=600, n_jobs=-1,\n",
      "                       random_state=147)\n"
     ]
    }
   ],
   "source": [
    "print(cv_model_2.best_params_)\n",
    "print(cv_model_2.best_estimator_)"
   ]
  },
  {
   "cell_type": "code",
   "execution_count": 57,
   "metadata": {},
   "outputs": [],
   "source": [
    "model_2_best = cv_model_2.best_estimator_"
   ]
  },
  {
   "cell_type": "code",
   "execution_count": 58,
   "metadata": {},
   "outputs": [
    {
     "data": {
      "text/plain": [
       "RandomForestClassifier(max_depth=20, n_estimators=600, n_jobs=-1,\n",
       "                       random_state=147)"
      ]
     },
     "execution_count": 58,
     "metadata": {},
     "output_type": "execute_result"
    }
   ],
   "source": [
    "model_2_best.fit(X_train_5, y_train)"
   ]
  },
  {
   "cell_type": "code",
   "execution_count": 59,
   "metadata": {},
   "outputs": [],
   "source": [
    "y_pred_5 = model_2_best.predict(X_test_5)"
   ]
  },
  {
   "cell_type": "code",
   "execution_count": 60,
   "metadata": {},
   "outputs": [
    {
     "name": "stdout",
     "output_type": "stream",
     "text": [
      "              precision    recall  f1-score   support\n",
      "\n",
      "           0       0.77      0.86      0.81     10456\n",
      "           1       0.56      0.40      0.47      4544\n",
      "\n",
      "    accuracy                           0.72     15000\n",
      "   macro avg       0.66      0.63      0.64     15000\n",
      "weighted avg       0.70      0.72      0.71     15000\n",
      "\n"
     ]
    }
   ],
   "source": [
    "print(classification_report(y_test, y_pred_5))"
   ]
  },
  {
   "cell_type": "code",
   "execution_count": 61,
   "metadata": {},
   "outputs": [
    {
     "name": "stdout",
     "output_type": "stream",
     "text": [
      "model_2_best metrics for performance\n",
      "Recall:  0.4038292253521127 \n",
      "Precision:  0.5558921538927598\n"
     ]
    }
   ],
   "source": [
    "print(\"model_2_best metrics for performance\")\n",
    "print(\"Recall: \", recall_score(y_test, y_pred_5), \"\\nPrecision: \", precision_score(y_test, y_pred_5))"
   ]
  },
  {
   "cell_type": "code",
   "execution_count": 62,
   "metadata": {},
   "outputs": [
    {
     "data": {
      "text/plain": [
       "<matplotlib.axes._subplots.AxesSubplot at 0x29487956c08>"
      ]
     },
     "execution_count": 62,
     "metadata": {},
     "output_type": "execute_result"
    },
    {
     "data": {
      "image/png": "[encoded data removed]",
      "text/plain": [
       "<Figure size 576x432 with 2 Axes>"
      ]
     },
     "metadata": {},
     "output_type": "display_data"
    }
   ],
   "source": [
    "cm_2 = confusion_matrix(y_test, y_pred_5)\n",
    "plt.figure(figsize=[8, 6])\n",
    "sns.heatmap(cm_2, annot=cm_2, fmt='g', cmap='Blues', annot_kws={\"size\": 18})"
   ]
  },
  {
   "cell_type": "markdown",
   "metadata": {},
   "source": [
    "### 5) Models comparison"
   ]
  },
  {
   "cell_type": "markdown",
   "metadata": {},
   "source": [
    "Recall has been chosen as metrics to guide the grid serach cross-validation: it indicates how good is the classifier at finding all the positive (default) observations.\n",
    "\n",
    "The dataset target is unbalanced: 34845 nondefault (0) and 15153 default (1) observations. In this case a the accuracy of the classifier is not a good metric: a model that only predicts nondefault for any observation will have an accuracy of 69.7%, but it would be a wrong model.\n",
    "\n",
    "The banking institution wants to avoid to buy mortgages that have a high risk to default. Therefore it is more interested in a model that is very good at finding all the mortgages that have high probability of default (positive), therefore a high recall.\n",
    "\n",
    "Precision also is considered: it indicates how good is the classifier at correctly identifying positive observations."
   ]
  },
  {
   "cell_type": "markdown",
   "metadata": {},
   "source": [
    "Let's review the performance metrics for both models:"
   ]
  },
  {
   "cell_type": "code",
   "execution_count": 63,
   "metadata": {},
   "outputs": [
    {
     "name": "stdout",
     "output_type": "stream",
     "text": [
      "model_1_best metrics for performance\n",
      "Recall:  0.4381602112676056 \n",
      "Precision:  0.5962863132674453\n"
     ]
    }
   ],
   "source": [
    "print(\"model_1_best metrics for performance\")\n",
    "print(\"Recall: \", recall_score(y_test, y_pred_best), \"\\nPrecision: \", precision_score(y_test, y_pred_best))"
   ]
  },
  {
   "cell_type": "code",
   "execution_count": 64,
   "metadata": {},
   "outputs": [
    {
     "name": "stdout",
     "output_type": "stream",
     "text": [
      "model_2_best metrics for performance\n",
      "Recall:  0.4038292253521127 \n",
      "Precision:  0.5558921538927598\n"
     ]
    }
   ],
   "source": [
    "print(\"model_2_best metrics for performance\")\n",
    "print(\"Recall: \", recall_score(y_test, y_pred_5), \"\\nPrecision: \", precision_score(y_test, y_pred_5))"
   ]
  },
  {
   "cell_type": "markdown",
   "metadata": {},
   "source": [
    "Both models do not have a high recall or precision and seem to underfit the data. Model-1 performs slightly better than Model-2:\n",
    "- Recall: \n",
    "    - Model-1 0.438 is higher than Model-2  0.404\n",
    "- Precision: \n",
    "   -  Model-1  0.596 is higher than Model-2  0.556\n",
    "\n",
    "Possible causes of poor performance of the models:\n",
    "- selecting only the 5 most important variables leaves out important information for prediction\n",
    "- random split of the data has biased the train and test set\n",
    "- the models, as tested, are not yet customized for this dataset: more hyperparameters tuning is required\n",
    "- Random Forest is not the best model to be used with this dataset"
   ]
  },
  {
   "cell_type": "markdown",
   "metadata": {},
   "source": [
    "## Possible further development"
   ]
  },
  {
   "cell_type": "markdown",
   "metadata": {},
   "source": [
    "There are several options for improvement:\n",
    "\n",
    "- use a higher number of estimators, n_estimators (limited to few hundreds in this notebook for computation time): the more estimators the more reliable is the prediction and stronger the model\n",
    "- each observation could be used as first observation and for target the latest value of 'default_time'\n",
    "- extend GridSearchCV with more parameters and values, use different random_state for train/test split and model definition\n",
    "- feature engineering: new features can be added to the dataset, e.g. balance_diff  = 'balance_time' - 'balance_orig_time'\n",
    "- enrichment of the dataset: combining variables from other sources (e.g. demographic data end employment status of borrowers)\n",
    "- use a different classification model type: k nearest neighbors or support vector machine (SVM), for both the numerical features need to be normalised first"
   ]
  },
  {
   "cell_type": "code",
   "execution_count": null,
   "metadata": {},
   "outputs": [],
   "source": []
  }
 ],
 "metadata": {
  "kernelspec": {
   "display_name": "Python 3 (ipykernel)",
   "language": "python",
   "name": "python3"
  },
  "language_info": {
   "codemirror_mode": {
    "name": "ipython",
    "version": 3
   },
   "file_extension": ".py",
   "mimetype": "text/x-python",
   "name": "python",
   "nbconvert_exporter": "python",
   "pygments_lexer": "ipython3",
   "version": "3.7.8"
  }
 },
 "nbformat": 4,
 "nbformat_minor": 4
}
