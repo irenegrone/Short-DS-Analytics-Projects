{
 "cells": [
  {
   "cell_type": "markdown",
   "metadata": {},
   "source": [
    "## Title\n",
    "\n",
    "\n",
    "### Objective\n",
    "\n",
    "\n"
   ]
  },
  {
   "cell_type": "code",
   "execution_count": 1,
   "metadata": {},
   "outputs": [],
   "source": [
    "# standard import\n",
    "import pandas as pd\n",
    "import requests\n",
    "import json\n",
    "from flatten_json import flatten\n",
    "import csv\n",
    "from zipfile import ZipFile\n",
    "from io import BytesIO, StringIO\n",
    "\n",
    "import psycopg2"
   ]
  },
  {
   "cell_type": "markdown",
   "metadata": {},
   "source": [
    "### 1. Retrieving data\n",
    "\n",
    "### HERE\n",
    "- add notes and details\n",
    "- create scripts for API and data into postgres database\n",
    "- create notebook for analysis and presentation"
   ]
  },
  {
   "cell_type": "markdown",
   "metadata": {},
   "source": [
    "#### From World Bank Country API  \n",
    "From the API documentation to retrieve the list of all the countries the url is 'http://api.worldbank.org/v2/country'; the data are retrieved in json format"
   ]
  },
  {
   "cell_type": "code",
   "execution_count": 2,
   "metadata": {},
   "outputs": [],
   "source": [
    "WB_COUNTRY_URL = 'http://api.worldbank.org/v2/country?format=json'\n",
    "CSV_GDP_URL = 'https://databank.worldbank.org/data/download/GDP.csv'\n",
    "CSV_WDI_URL = "
   ]
  },
  {
   "cell_type": "code",
   "execution_count": 2,
   "metadata": {},
   "outputs": [],
   "source": [
    "try:\n",
    "    r = requests.get(WB_COUNTRY_URL)\n",
    "    r.raise_for_status()\n",
    "except requests.exceptions.HTTPError as e:\n",
    "    raise SystemExit(e)"
   ]
  },
  {
   "cell_type": "markdown",
   "metadata": {},
   "source": [
    "Checking the result in json format"
   ]
  },
  {
   "cell_type": "code",
   "execution_count": 3,
   "metadata": {},
   "outputs": [],
   "source": [
    "json_result = r.json()"
   ]
  },
  {
   "cell_type": "code",
   "execution_count": 4,
   "metadata": {},
   "outputs": [
    {
     "data": {
      "text/plain": [
       "2"
      ]
     },
     "execution_count": 4,
     "metadata": {},
     "output_type": "execute_result"
    }
   ],
   "source": [
    "len(json_result)"
   ]
  },
  {
   "cell_type": "code",
   "execution_count": 5,
   "metadata": {},
   "outputs": [
    {
     "data": {
      "text/plain": [
       "{'page': 1, 'pages': 6, 'per_page': '50', 'total': 297}"
      ]
     },
     "execution_count": 5,
     "metadata": {},
     "output_type": "execute_result"
    }
   ],
   "source": [
    "json_result[0]"
   ]
  },
  {
   "cell_type": "code",
   "execution_count": 6,
   "metadata": {},
   "outputs": [
    {
     "data": {
      "text/plain": [
       "{'id': 'ABW',\n",
       " 'iso2Code': 'AW',\n",
       " 'name': 'Aruba',\n",
       " 'region': {'id': 'LCN',\n",
       "  'iso2code': 'ZJ',\n",
       "  'value': 'Latin America & Caribbean '},\n",
       " 'adminregion': {'id': '', 'iso2code': '', 'value': ''},\n",
       " 'incomeLevel': {'id': 'HIC', 'iso2code': 'XD', 'value': 'High income'},\n",
       " 'lendingType': {'id': 'LNX', 'iso2code': 'XX', 'value': 'Not classified'},\n",
       " 'capitalCity': 'Oranjestad',\n",
       " 'longitude': '-70.0167',\n",
       " 'latitude': '12.5167'}"
      ]
     },
     "execution_count": 6,
     "metadata": {},
     "output_type": "execute_result"
    }
   ],
   "source": [
    "json_result[1][0]"
   ]
  },
  {
   "cell_type": "markdown",
   "metadata": {},
   "source": [
    "There are 6 pages of data to be retrieved and it is required to flatten the json results.\n",
    "\n",
    "### HERE"
   ]
  },
  {
   "cell_type": "code",
   "execution_count": 7,
   "metadata": {},
   "outputs": [],
   "source": [
    "# reduce two cells and update code\n",
    "\n",
    "all_result = []\n",
    "\n",
    "for page in range(1,7):\n",
    "    url = f'http://api.worldbank.org/v2/country?format=json&page={page}'\n",
    "    data = requests.get(url)\n",
    "    res = data.json()\n",
    "    all_result.append(json.loads(data.text)[1])"
   ]
  },
  {
   "cell_type": "code",
   "execution_count": 8,
   "metadata": {},
   "outputs": [],
   "source": [
    "dfs = []\n",
    "\n",
    "for df_res in range(0, len(all_result)):\n",
    "    dic_flat = [flatten(d) for d in all_result[df_res]]\n",
    "    df = pd.DataFrame(dic_flat)\n",
    "    dfs.append(df)\n",
    "    \n",
    "df_country = pd.concat(dfs)"
   ]
  },
  {
   "cell_type": "code",
   "execution_count": 9,
   "metadata": {},
   "outputs": [
    {
     "name": "stdout",
     "output_type": "stream",
     "text": [
      "<class 'pandas.core.frame.DataFrame'>\n",
      "Int64Index: 297 entries, 0 to 46\n",
      "Data columns (total 18 columns):\n",
      "id                      297 non-null object\n",
      "iso2Code                297 non-null object\n",
      "name                    297 non-null object\n",
      "region_id               297 non-null object\n",
      "region_iso2code         297 non-null object\n",
      "region_value            297 non-null object\n",
      "adminregion_id          297 non-null object\n",
      "adminregion_iso2code    297 non-null object\n",
      "adminregion_value       297 non-null object\n",
      "incomeLevel_id          297 non-null object\n",
      "incomeLevel_iso2code    297 non-null object\n",
      "incomeLevel_value       297 non-null object\n",
      "lendingType_id          297 non-null object\n",
      "lendingType_iso2code    297 non-null object\n",
      "lendingType_value       297 non-null object\n",
      "capitalCity             297 non-null object\n",
      "longitude               297 non-null object\n",
      "latitude                297 non-null object\n",
      "dtypes: object(18)\n",
      "memory usage: 44.1+ KB\n"
     ]
    }
   ],
   "source": [
    "df_country.info()"
   ]
  },
  {
   "cell_type": "markdown",
   "metadata": {},
   "source": [
    "As expected we have a total of 297 rows. Let's look at the data to understand what needs to be stored in the database."
   ]
  },
  {
   "cell_type": "code",
   "execution_count": 10,
   "metadata": {},
   "outputs": [
    {
     "data": {
      "text/html": [
       "<div>\n",
       "<style scoped>\n",
       "    .dataframe tbody tr th:only-of-type {\n",
       "        vertical-align: middle;\n",
       "    }\n",
       "\n",
       "    .dataframe tbody tr th {\n",
       "        vertical-align: top;\n",
       "    }\n",
       "\n",
       "    .dataframe thead th {\n",
       "        text-align: right;\n",
       "    }\n",
       "</style>\n",
       "<table border=\"1\" class=\"dataframe\">\n",
       "  <thead>\n",
       "    <tr style=\"text-align: right;\">\n",
       "      <th></th>\n",
       "      <th>id</th>\n",
       "      <th>iso2Code</th>\n",
       "      <th>name</th>\n",
       "      <th>region_id</th>\n",
       "      <th>region_iso2code</th>\n",
       "      <th>region_value</th>\n",
       "      <th>adminregion_id</th>\n",
       "      <th>adminregion_iso2code</th>\n",
       "      <th>adminregion_value</th>\n",
       "      <th>incomeLevel_id</th>\n",
       "      <th>incomeLevel_iso2code</th>\n",
       "      <th>incomeLevel_value</th>\n",
       "      <th>lendingType_id</th>\n",
       "      <th>lendingType_iso2code</th>\n",
       "      <th>lendingType_value</th>\n",
       "      <th>capitalCity</th>\n",
       "      <th>longitude</th>\n",
       "      <th>latitude</th>\n",
       "    </tr>\n",
       "  </thead>\n",
       "  <tbody>\n",
       "    <tr>\n",
       "      <th>0</th>\n",
       "      <td>ABW</td>\n",
       "      <td>AW</td>\n",
       "      <td>Aruba</td>\n",
       "      <td>LCN</td>\n",
       "      <td>ZJ</td>\n",
       "      <td>Latin America &amp; Caribbean</td>\n",
       "      <td></td>\n",
       "      <td></td>\n",
       "      <td></td>\n",
       "      <td>HIC</td>\n",
       "      <td>XD</td>\n",
       "      <td>High income</td>\n",
       "      <td>LNX</td>\n",
       "      <td>XX</td>\n",
       "      <td>Not classified</td>\n",
       "      <td>Oranjestad</td>\n",
       "      <td>-70.0167</td>\n",
       "      <td>12.5167</td>\n",
       "    </tr>\n",
       "    <tr>\n",
       "      <th>1</th>\n",
       "      <td>AFG</td>\n",
       "      <td>AF</td>\n",
       "      <td>Afghanistan</td>\n",
       "      <td>SAS</td>\n",
       "      <td>8S</td>\n",
       "      <td>South Asia</td>\n",
       "      <td>SAS</td>\n",
       "      <td>8S</td>\n",
       "      <td>South Asia</td>\n",
       "      <td>LIC</td>\n",
       "      <td>XM</td>\n",
       "      <td>Low income</td>\n",
       "      <td>IDX</td>\n",
       "      <td>XI</td>\n",
       "      <td>IDA</td>\n",
       "      <td>Kabul</td>\n",
       "      <td>69.1761</td>\n",
       "      <td>34.5228</td>\n",
       "    </tr>\n",
       "    <tr>\n",
       "      <th>2</th>\n",
       "      <td>AFR</td>\n",
       "      <td>A9</td>\n",
       "      <td>Africa</td>\n",
       "      <td>NA</td>\n",
       "      <td>NA</td>\n",
       "      <td>Aggregates</td>\n",
       "      <td></td>\n",
       "      <td></td>\n",
       "      <td></td>\n",
       "      <td>NA</td>\n",
       "      <td>NA</td>\n",
       "      <td>Aggregates</td>\n",
       "      <td></td>\n",
       "      <td></td>\n",
       "      <td>Aggregates</td>\n",
       "      <td></td>\n",
       "      <td></td>\n",
       "      <td></td>\n",
       "    </tr>\n",
       "    <tr>\n",
       "      <th>3</th>\n",
       "      <td>AGO</td>\n",
       "      <td>AO</td>\n",
       "      <td>Angola</td>\n",
       "      <td>SSF</td>\n",
       "      <td>ZG</td>\n",
       "      <td>Sub-Saharan Africa</td>\n",
       "      <td>SSA</td>\n",
       "      <td>ZF</td>\n",
       "      <td>Sub-Saharan Africa (excluding high income)</td>\n",
       "      <td>LMC</td>\n",
       "      <td>XN</td>\n",
       "      <td>Lower middle income</td>\n",
       "      <td>IBD</td>\n",
       "      <td>XF</td>\n",
       "      <td>IBRD</td>\n",
       "      <td>Luanda</td>\n",
       "      <td>13.242</td>\n",
       "      <td>-8.81155</td>\n",
       "    </tr>\n",
       "    <tr>\n",
       "      <th>4</th>\n",
       "      <td>ALB</td>\n",
       "      <td>AL</td>\n",
       "      <td>Albania</td>\n",
       "      <td>ECS</td>\n",
       "      <td>Z7</td>\n",
       "      <td>Europe &amp; Central Asia</td>\n",
       "      <td>ECA</td>\n",
       "      <td>7E</td>\n",
       "      <td>Europe &amp; Central Asia (excluding high income)</td>\n",
       "      <td>UMC</td>\n",
       "      <td>XT</td>\n",
       "      <td>Upper middle income</td>\n",
       "      <td>IBD</td>\n",
       "      <td>XF</td>\n",
       "      <td>IBRD</td>\n",
       "      <td>Tirane</td>\n",
       "      <td>19.8172</td>\n",
       "      <td>41.3317</td>\n",
       "    </tr>\n",
       "    <tr>\n",
       "      <th>5</th>\n",
       "      <td>AND</td>\n",
       "      <td>AD</td>\n",
       "      <td>Andorra</td>\n",
       "      <td>ECS</td>\n",
       "      <td>Z7</td>\n",
       "      <td>Europe &amp; Central Asia</td>\n",
       "      <td></td>\n",
       "      <td></td>\n",
       "      <td></td>\n",
       "      <td>HIC</td>\n",
       "      <td>XD</td>\n",
       "      <td>High income</td>\n",
       "      <td>LNX</td>\n",
       "      <td>XX</td>\n",
       "      <td>Not classified</td>\n",
       "      <td>Andorra la Vella</td>\n",
       "      <td>1.5218</td>\n",
       "      <td>42.5075</td>\n",
       "    </tr>\n",
       "    <tr>\n",
       "      <th>6</th>\n",
       "      <td>ARB</td>\n",
       "      <td>1A</td>\n",
       "      <td>Arab World</td>\n",
       "      <td>NA</td>\n",
       "      <td>NA</td>\n",
       "      <td>Aggregates</td>\n",
       "      <td></td>\n",
       "      <td></td>\n",
       "      <td></td>\n",
       "      <td>NA</td>\n",
       "      <td>NA</td>\n",
       "      <td>Aggregates</td>\n",
       "      <td></td>\n",
       "      <td></td>\n",
       "      <td>Aggregates</td>\n",
       "      <td></td>\n",
       "      <td></td>\n",
       "      <td></td>\n",
       "    </tr>\n",
       "    <tr>\n",
       "      <th>7</th>\n",
       "      <td>ARE</td>\n",
       "      <td>AE</td>\n",
       "      <td>United Arab Emirates</td>\n",
       "      <td>MEA</td>\n",
       "      <td>ZQ</td>\n",
       "      <td>Middle East &amp; North Africa</td>\n",
       "      <td></td>\n",
       "      <td></td>\n",
       "      <td></td>\n",
       "      <td>HIC</td>\n",
       "      <td>XD</td>\n",
       "      <td>High income</td>\n",
       "      <td>LNX</td>\n",
       "      <td>XX</td>\n",
       "      <td>Not classified</td>\n",
       "      <td>Abu Dhabi</td>\n",
       "      <td>54.3705</td>\n",
       "      <td>24.4764</td>\n",
       "    </tr>\n",
       "    <tr>\n",
       "      <th>8</th>\n",
       "      <td>ARG</td>\n",
       "      <td>AR</td>\n",
       "      <td>Argentina</td>\n",
       "      <td>LCN</td>\n",
       "      <td>ZJ</td>\n",
       "      <td>Latin America &amp; Caribbean</td>\n",
       "      <td>LAC</td>\n",
       "      <td>XJ</td>\n",
       "      <td>Latin America &amp; Caribbean (excluding high income)</td>\n",
       "      <td>UMC</td>\n",
       "      <td>XT</td>\n",
       "      <td>Upper middle income</td>\n",
       "      <td>IBD</td>\n",
       "      <td>XF</td>\n",
       "      <td>IBRD</td>\n",
       "      <td>Buenos Aires</td>\n",
       "      <td>-58.4173</td>\n",
       "      <td>-34.6118</td>\n",
       "    </tr>\n",
       "    <tr>\n",
       "      <th>9</th>\n",
       "      <td>ARM</td>\n",
       "      <td>AM</td>\n",
       "      <td>Armenia</td>\n",
       "      <td>ECS</td>\n",
       "      <td>Z7</td>\n",
       "      <td>Europe &amp; Central Asia</td>\n",
       "      <td>ECA</td>\n",
       "      <td>7E</td>\n",
       "      <td>Europe &amp; Central Asia (excluding high income)</td>\n",
       "      <td>UMC</td>\n",
       "      <td>XT</td>\n",
       "      <td>Upper middle income</td>\n",
       "      <td>IBD</td>\n",
       "      <td>XF</td>\n",
       "      <td>IBRD</td>\n",
       "      <td>Yerevan</td>\n",
       "      <td>44.509</td>\n",
       "      <td>40.1596</td>\n",
       "    </tr>\n",
       "  </tbody>\n",
       "</table>\n",
       "</div>"
      ],
      "text/plain": [
       "    id iso2Code                  name region_id region_iso2code  \\\n",
       "0  ABW       AW                 Aruba       LCN              ZJ   \n",
       "1  AFG       AF           Afghanistan       SAS              8S   \n",
       "2  AFR       A9                Africa        NA              NA   \n",
       "3  AGO       AO                Angola       SSF              ZG   \n",
       "4  ALB       AL               Albania       ECS              Z7   \n",
       "5  AND       AD               Andorra       ECS              Z7   \n",
       "6  ARB       1A            Arab World        NA              NA   \n",
       "7  ARE       AE  United Arab Emirates       MEA              ZQ   \n",
       "8  ARG       AR             Argentina       LCN              ZJ   \n",
       "9  ARM       AM               Armenia       ECS              Z7   \n",
       "\n",
       "                 region_value adminregion_id adminregion_iso2code  \\\n",
       "0  Latin America & Caribbean                                        \n",
       "1                  South Asia            SAS                   8S   \n",
       "2                  Aggregates                                       \n",
       "3         Sub-Saharan Africa             SSA                   ZF   \n",
       "4       Europe & Central Asia            ECA                   7E   \n",
       "5       Europe & Central Asia                                       \n",
       "6                  Aggregates                                       \n",
       "7  Middle East & North Africa                                       \n",
       "8  Latin America & Caribbean             LAC                   XJ   \n",
       "9       Europe & Central Asia            ECA                   7E   \n",
       "\n",
       "                                   adminregion_value incomeLevel_id  \\\n",
       "0                                                               HIC   \n",
       "1                                         South Asia            LIC   \n",
       "2                                                                NA   \n",
       "3         Sub-Saharan Africa (excluding high income)            LMC   \n",
       "4      Europe & Central Asia (excluding high income)            UMC   \n",
       "5                                                               HIC   \n",
       "6                                                                NA   \n",
       "7                                                               HIC   \n",
       "8  Latin America & Caribbean (excluding high income)            UMC   \n",
       "9      Europe & Central Asia (excluding high income)            UMC   \n",
       "\n",
       "  incomeLevel_iso2code    incomeLevel_value lendingType_id  \\\n",
       "0                   XD          High income            LNX   \n",
       "1                   XM           Low income            IDX   \n",
       "2                   NA           Aggregates                  \n",
       "3                   XN  Lower middle income            IBD   \n",
       "4                   XT  Upper middle income            IBD   \n",
       "5                   XD          High income            LNX   \n",
       "6                   NA           Aggregates                  \n",
       "7                   XD          High income            LNX   \n",
       "8                   XT  Upper middle income            IBD   \n",
       "9                   XT  Upper middle income            IBD   \n",
       "\n",
       "  lendingType_iso2code lendingType_value       capitalCity longitude  latitude  \n",
       "0                   XX    Not classified        Oranjestad  -70.0167   12.5167  \n",
       "1                   XI               IDA             Kabul   69.1761   34.5228  \n",
       "2                             Aggregates                                        \n",
       "3                   XF              IBRD            Luanda    13.242  -8.81155  \n",
       "4                   XF              IBRD            Tirane   19.8172   41.3317  \n",
       "5                   XX    Not classified  Andorra la Vella    1.5218   42.5075  \n",
       "6                             Aggregates                                        \n",
       "7                   XX    Not classified         Abu Dhabi   54.3705   24.4764  \n",
       "8                   XF              IBRD      Buenos Aires  -58.4173  -34.6118  \n",
       "9                   XF              IBRD           Yerevan    44.509   40.1596  "
      ]
     },
     "execution_count": 10,
     "metadata": {},
     "output_type": "execute_result"
    }
   ],
   "source": [
    "df_country.head(10)"
   ]
  },
  {
   "cell_type": "code",
   "execution_count": 11,
   "metadata": {},
   "outputs": [],
   "source": [
    "drop_col_country = ['adminregion_id', 'adminregion_iso2code','adminregion_value', 'lendingType_id', 'lendingType_iso2code', 'lendingType_value']"
   ]
  },
  {
   "cell_type": "code",
   "execution_count": 12,
   "metadata": {},
   "outputs": [],
   "source": [
    "df_country.drop(drop_col_country, axis=1, inplace = True)"
   ]
  },
  {
   "cell_type": "code",
   "execution_count": 13,
   "metadata": {},
   "outputs": [
    {
     "data": {
      "text/plain": [
       "Index(['id', 'iso2Code', 'name', 'region_id', 'region_iso2code',\n",
       "       'region_value', 'incomeLevel_id', 'incomeLevel_iso2code',\n",
       "       'incomeLevel_value', 'capitalCity', 'longitude', 'latitude'],\n",
       "      dtype='object')"
      ]
     },
     "execution_count": 13,
     "metadata": {},
     "output_type": "execute_result"
    }
   ],
   "source": [
    "df_country.columns"
   ]
  },
  {
   "cell_type": "code",
   "execution_count": 14,
   "metadata": {},
   "outputs": [
    {
     "data": {
      "text/html": [
       "<div>\n",
       "<style scoped>\n",
       "    .dataframe tbody tr th:only-of-type {\n",
       "        vertical-align: middle;\n",
       "    }\n",
       "\n",
       "    .dataframe tbody tr th {\n",
       "        vertical-align: top;\n",
       "    }\n",
       "\n",
       "    .dataframe thead th {\n",
       "        text-align: right;\n",
       "    }\n",
       "</style>\n",
       "<table border=\"1\" class=\"dataframe\">\n",
       "  <thead>\n",
       "    <tr style=\"text-align: right;\">\n",
       "      <th></th>\n",
       "      <th>id</th>\n",
       "      <th>iso2Code</th>\n",
       "      <th>name</th>\n",
       "      <th>region_id</th>\n",
       "      <th>region_iso2code</th>\n",
       "      <th>region_value</th>\n",
       "      <th>incomeLevel_id</th>\n",
       "      <th>incomeLevel_iso2code</th>\n",
       "      <th>incomeLevel_value</th>\n",
       "      <th>capitalCity</th>\n",
       "      <th>longitude</th>\n",
       "      <th>latitude</th>\n",
       "    </tr>\n",
       "  </thead>\n",
       "  <tbody>\n",
       "    <tr>\n",
       "      <th>0</th>\n",
       "      <td>ABW</td>\n",
       "      <td>AW</td>\n",
       "      <td>Aruba</td>\n",
       "      <td>LCN</td>\n",
       "      <td>ZJ</td>\n",
       "      <td>Latin America &amp; Caribbean</td>\n",
       "      <td>HIC</td>\n",
       "      <td>XD</td>\n",
       "      <td>High income</td>\n",
       "      <td>Oranjestad</td>\n",
       "      <td>-70.0167</td>\n",
       "      <td>12.5167</td>\n",
       "    </tr>\n",
       "    <tr>\n",
       "      <th>1</th>\n",
       "      <td>AFG</td>\n",
       "      <td>AF</td>\n",
       "      <td>Afghanistan</td>\n",
       "      <td>SAS</td>\n",
       "      <td>8S</td>\n",
       "      <td>South Asia</td>\n",
       "      <td>LIC</td>\n",
       "      <td>XM</td>\n",
       "      <td>Low income</td>\n",
       "      <td>Kabul</td>\n",
       "      <td>69.1761</td>\n",
       "      <td>34.5228</td>\n",
       "    </tr>\n",
       "    <tr>\n",
       "      <th>2</th>\n",
       "      <td>AFR</td>\n",
       "      <td>A9</td>\n",
       "      <td>Africa</td>\n",
       "      <td>NA</td>\n",
       "      <td>NA</td>\n",
       "      <td>Aggregates</td>\n",
       "      <td>NA</td>\n",
       "      <td>NA</td>\n",
       "      <td>Aggregates</td>\n",
       "      <td></td>\n",
       "      <td></td>\n",
       "      <td></td>\n",
       "    </tr>\n",
       "    <tr>\n",
       "      <th>3</th>\n",
       "      <td>AGO</td>\n",
       "      <td>AO</td>\n",
       "      <td>Angola</td>\n",
       "      <td>SSF</td>\n",
       "      <td>ZG</td>\n",
       "      <td>Sub-Saharan Africa</td>\n",
       "      <td>LMC</td>\n",
       "      <td>XN</td>\n",
       "      <td>Lower middle income</td>\n",
       "      <td>Luanda</td>\n",
       "      <td>13.242</td>\n",
       "      <td>-8.81155</td>\n",
       "    </tr>\n",
       "    <tr>\n",
       "      <th>4</th>\n",
       "      <td>ALB</td>\n",
       "      <td>AL</td>\n",
       "      <td>Albania</td>\n",
       "      <td>ECS</td>\n",
       "      <td>Z7</td>\n",
       "      <td>Europe &amp; Central Asia</td>\n",
       "      <td>UMC</td>\n",
       "      <td>XT</td>\n",
       "      <td>Upper middle income</td>\n",
       "      <td>Tirane</td>\n",
       "      <td>19.8172</td>\n",
       "      <td>41.3317</td>\n",
       "    </tr>\n",
       "  </tbody>\n",
       "</table>\n",
       "</div>"
      ],
      "text/plain": [
       "    id iso2Code         name region_id region_iso2code  \\\n",
       "0  ABW       AW        Aruba       LCN              ZJ   \n",
       "1  AFG       AF  Afghanistan       SAS              8S   \n",
       "2  AFR       A9       Africa        NA              NA   \n",
       "3  AGO       AO       Angola       SSF              ZG   \n",
       "4  ALB       AL      Albania       ECS              Z7   \n",
       "\n",
       "                 region_value incomeLevel_id incomeLevel_iso2code  \\\n",
       "0  Latin America & Caribbean             HIC                   XD   \n",
       "1                  South Asia            LIC                   XM   \n",
       "2                  Aggregates             NA                   NA   \n",
       "3         Sub-Saharan Africa             LMC                   XN   \n",
       "4       Europe & Central Asia            UMC                   XT   \n",
       "\n",
       "     incomeLevel_value capitalCity longitude  latitude  \n",
       "0          High income  Oranjestad  -70.0167   12.5167  \n",
       "1           Low income       Kabul   69.1761   34.5228  \n",
       "2           Aggregates                                  \n",
       "3  Lower middle income      Luanda    13.242  -8.81155  \n",
       "4  Upper middle income      Tirane   19.8172   41.3317  "
      ]
     },
     "execution_count": 14,
     "metadata": {},
     "output_type": "execute_result"
    }
   ],
   "source": [
    "# check the resulting dataframe\n",
    "df_country.head()"
   ]
  },
  {
   "cell_type": "markdown",
   "metadata": {},
   "source": [
    "### From World Bank Data Catalog"
   ]
  },
  {
   "cell_type": "markdown",
   "metadata": {},
   "source": [
    "Retrieve two files:\n",
    "1. Global Economic Prospects dataset where we find the percentage of grouth per year for each country\n",
    "2. GDP ranking: dataset where we find the ranking and the amount of GDP for each country for the year 2019"
   ]
  },
  {
   "cell_type": "markdown",
   "metadata": {},
   "source": [
    "#### 1. GEP\n",
    "The files to download are zipped, using zipfile library"
   ]
  },
  {
   "cell_type": "code",
   "execution_count": 15,
   "metadata": {},
   "outputs": [],
   "source": [
    "CSV_GEP_URL = 'https://databank.worldbank.org/data/download/GEP_CSV.zip'\n",
    "\n",
    "try:\n",
    "    r2 = requests.get(CSV_GEP_URL)\n",
    "    r2.raise_for_status()\n",
    "except requests.exceptions.HTTPError as e:\n",
    "    raise SystemExit(e)"
   ]
  },
  {
   "cell_type": "code",
   "execution_count": 16,
   "metadata": {},
   "outputs": [],
   "source": [
    "zip_file = ZipFile(BytesIO(r2.content))"
   ]
  },
  {
   "cell_type": "code",
   "execution_count": 17,
   "metadata": {},
   "outputs": [
    {
     "data": {
      "text/plain": [
       "['GEPData.csv', 'GEPSeries.csv']"
      ]
     },
     "execution_count": 17,
     "metadata": {},
     "output_type": "execute_result"
    }
   ],
   "source": [
    "zip_file.namelist()"
   ]
  },
  {
   "cell_type": "markdown",
   "metadata": {},
   "source": [
    "The zip dowload contains two csv files: the one we are interested is 'GEPData.csv'"
   ]
  },
  {
   "cell_type": "code",
   "execution_count": 18,
   "metadata": {},
   "outputs": [],
   "source": [
    "df_csv_gep = pd.read_csv(zip_file.open(zip_file.namelist()[0]))"
   ]
  },
  {
   "cell_type": "markdown",
   "metadata": {},
   "source": [
    "Check the data on from the csv file and their types"
   ]
  },
  {
   "cell_type": "code",
   "execution_count": 19,
   "metadata": {},
   "outputs": [
    {
     "data": {
      "text/html": [
       "<div>\n",
       "<style scoped>\n",
       "    .dataframe tbody tr th:only-of-type {\n",
       "        vertical-align: middle;\n",
       "    }\n",
       "\n",
       "    .dataframe tbody tr th {\n",
       "        vertical-align: top;\n",
       "    }\n",
       "\n",
       "    .dataframe thead th {\n",
       "        text-align: right;\n",
       "    }\n",
       "</style>\n",
       "<table border=\"1\" class=\"dataframe\">\n",
       "  <thead>\n",
       "    <tr style=\"text-align: right;\">\n",
       "      <th></th>\n",
       "      <th>Country Name</th>\n",
       "      <th>Country Code</th>\n",
       "      <th>Indicator Name</th>\n",
       "      <th>Indicator Code</th>\n",
       "      <th>1999</th>\n",
       "      <th>2000</th>\n",
       "      <th>2001</th>\n",
       "      <th>2002</th>\n",
       "      <th>2003</th>\n",
       "      <th>2004</th>\n",
       "      <th>...</th>\n",
       "      <th>2014</th>\n",
       "      <th>2015</th>\n",
       "      <th>2016</th>\n",
       "      <th>2017</th>\n",
       "      <th>2018</th>\n",
       "      <th>2019</th>\n",
       "      <th>2020</th>\n",
       "      <th>2021</th>\n",
       "      <th>2022</th>\n",
       "      <th>Unnamed: 28</th>\n",
       "    </tr>\n",
       "  </thead>\n",
       "  <tbody>\n",
       "    <tr>\n",
       "      <th>0</th>\n",
       "      <td>Advanced Economies</td>\n",
       "      <td>AME</td>\n",
       "      <td>GDP growth, constant 2010 USD</td>\n",
       "      <td>NYGDPMKTPKDZ</td>\n",
       "      <td>NaN</td>\n",
       "      <td>NaN</td>\n",
       "      <td>NaN</td>\n",
       "      <td>NaN</td>\n",
       "      <td>NaN</td>\n",
       "      <td>NaN</td>\n",
       "      <td>...</td>\n",
       "      <td>NaN</td>\n",
       "      <td>NaN</td>\n",
       "      <td>NaN</td>\n",
       "      <td>NaN</td>\n",
       "      <td>2.2</td>\n",
       "      <td>1.6</td>\n",
       "      <td>-5.4</td>\n",
       "      <td>3.3</td>\n",
       "      <td>3.5</td>\n",
       "      <td>NaN</td>\n",
       "    </tr>\n",
       "    <tr>\n",
       "      <th>1</th>\n",
       "      <td>East Asia and Pacific</td>\n",
       "      <td>EAA</td>\n",
       "      <td>GDP growth, constant 2010 USD</td>\n",
       "      <td>NYGDPMKTPKDZ</td>\n",
       "      <td>NaN</td>\n",
       "      <td>NaN</td>\n",
       "      <td>NaN</td>\n",
       "      <td>NaN</td>\n",
       "      <td>NaN</td>\n",
       "      <td>NaN</td>\n",
       "      <td>...</td>\n",
       "      <td>NaN</td>\n",
       "      <td>NaN</td>\n",
       "      <td>NaN</td>\n",
       "      <td>NaN</td>\n",
       "      <td>6.3</td>\n",
       "      <td>5.8</td>\n",
       "      <td>0.9</td>\n",
       "      <td>7.4</td>\n",
       "      <td>5.2</td>\n",
       "      <td>NaN</td>\n",
       "    </tr>\n",
       "    <tr>\n",
       "      <th>2</th>\n",
       "      <td>Emerging Markets and Developing Economies (EMDE)</td>\n",
       "      <td>EMD</td>\n",
       "      <td>GDP growth, constant 2010 USD</td>\n",
       "      <td>NYGDPMKTPKDZ</td>\n",
       "      <td>NaN</td>\n",
       "      <td>NaN</td>\n",
       "      <td>NaN</td>\n",
       "      <td>NaN</td>\n",
       "      <td>NaN</td>\n",
       "      <td>NaN</td>\n",
       "      <td>...</td>\n",
       "      <td>NaN</td>\n",
       "      <td>NaN</td>\n",
       "      <td>NaN</td>\n",
       "      <td>NaN</td>\n",
       "      <td>4.3</td>\n",
       "      <td>3.6</td>\n",
       "      <td>-2.6</td>\n",
       "      <td>5.0</td>\n",
       "      <td>4.2</td>\n",
       "      <td>NaN</td>\n",
       "    </tr>\n",
       "    <tr>\n",
       "      <th>3</th>\n",
       "      <td>Euro Area</td>\n",
       "      <td>E19</td>\n",
       "      <td>GDP growth, constant 2010 USD</td>\n",
       "      <td>NYGDPMKTPKDZ</td>\n",
       "      <td>NaN</td>\n",
       "      <td>NaN</td>\n",
       "      <td>NaN</td>\n",
       "      <td>NaN</td>\n",
       "      <td>NaN</td>\n",
       "      <td>NaN</td>\n",
       "      <td>...</td>\n",
       "      <td>NaN</td>\n",
       "      <td>NaN</td>\n",
       "      <td>NaN</td>\n",
       "      <td>NaN</td>\n",
       "      <td>1.9</td>\n",
       "      <td>1.3</td>\n",
       "      <td>-7.4</td>\n",
       "      <td>3.6</td>\n",
       "      <td>4.0</td>\n",
       "      <td>NaN</td>\n",
       "    </tr>\n",
       "    <tr>\n",
       "      <th>4</th>\n",
       "      <td>Europe and Central Asia</td>\n",
       "      <td>ECH</td>\n",
       "      <td>GDP growth, constant 2010 USD</td>\n",
       "      <td>NYGDPMKTPKDZ</td>\n",
       "      <td>NaN</td>\n",
       "      <td>NaN</td>\n",
       "      <td>NaN</td>\n",
       "      <td>NaN</td>\n",
       "      <td>NaN</td>\n",
       "      <td>NaN</td>\n",
       "      <td>...</td>\n",
       "      <td>NaN</td>\n",
       "      <td>NaN</td>\n",
       "      <td>NaN</td>\n",
       "      <td>NaN</td>\n",
       "      <td>3.4</td>\n",
       "      <td>2.3</td>\n",
       "      <td>-2.9</td>\n",
       "      <td>3.3</td>\n",
       "      <td>3.9</td>\n",
       "      <td>NaN</td>\n",
       "    </tr>\n",
       "  </tbody>\n",
       "</table>\n",
       "<p>5 rows × 29 columns</p>\n",
       "</div>"
      ],
      "text/plain": [
       "                                       Country Name Country Code  \\\n",
       "0                                Advanced Economies          AME   \n",
       "1                             East Asia and Pacific          EAA   \n",
       "2  Emerging Markets and Developing Economies (EMDE)          EMD   \n",
       "3                                         Euro Area          E19   \n",
       "4                           Europe and Central Asia          ECH   \n",
       "\n",
       "                  Indicator Name Indicator Code  1999  2000  2001  2002  2003  \\\n",
       "0  GDP growth, constant 2010 USD   NYGDPMKTPKDZ   NaN   NaN   NaN   NaN   NaN   \n",
       "1  GDP growth, constant 2010 USD   NYGDPMKTPKDZ   NaN   NaN   NaN   NaN   NaN   \n",
       "2  GDP growth, constant 2010 USD   NYGDPMKTPKDZ   NaN   NaN   NaN   NaN   NaN   \n",
       "3  GDP growth, constant 2010 USD   NYGDPMKTPKDZ   NaN   NaN   NaN   NaN   NaN   \n",
       "4  GDP growth, constant 2010 USD   NYGDPMKTPKDZ   NaN   NaN   NaN   NaN   NaN   \n",
       "\n",
       "   2004  ...  2014  2015  2016  2017  2018  2019  2020  2021  2022  \\\n",
       "0   NaN  ...   NaN   NaN   NaN   NaN   2.2   1.6  -5.4   3.3   3.5   \n",
       "1   NaN  ...   NaN   NaN   NaN   NaN   6.3   5.8   0.9   7.4   5.2   \n",
       "2   NaN  ...   NaN   NaN   NaN   NaN   4.3   3.6  -2.6   5.0   4.2   \n",
       "3   NaN  ...   NaN   NaN   NaN   NaN   1.9   1.3  -7.4   3.6   4.0   \n",
       "4   NaN  ...   NaN   NaN   NaN   NaN   3.4   2.3  -2.9   3.3   3.9   \n",
       "\n",
       "   Unnamed: 28  \n",
       "0          NaN  \n",
       "1          NaN  \n",
       "2          NaN  \n",
       "3          NaN  \n",
       "4          NaN  \n",
       "\n",
       "[5 rows x 29 columns]"
      ]
     },
     "execution_count": 19,
     "metadata": {},
     "output_type": "execute_result"
    }
   ],
   "source": [
    "df_csv_gep.head(5)"
   ]
  },
  {
   "cell_type": "code",
   "execution_count": 20,
   "metadata": {},
   "outputs": [
    {
     "name": "stdout",
     "output_type": "stream",
     "text": [
      "<class 'pandas.core.frame.DataFrame'>\n",
      "RangeIndex: 146 entries, 0 to 145\n",
      "Data columns (total 29 columns):\n",
      "Country Name      146 non-null object\n",
      "Country Code      146 non-null object\n",
      "Indicator Name    146 non-null object\n",
      "Indicator Code    146 non-null object\n",
      "1999              0 non-null float64\n",
      "2000              0 non-null float64\n",
      "2001              0 non-null float64\n",
      "2002              0 non-null float64\n",
      "2003              0 non-null float64\n",
      "2004              0 non-null float64\n",
      "2005              0 non-null float64\n",
      "2006              0 non-null float64\n",
      "2007              0 non-null float64\n",
      "2008              0 non-null float64\n",
      "2009              0 non-null float64\n",
      "2010              0 non-null float64\n",
      "2011              0 non-null float64\n",
      "2012              0 non-null float64\n",
      "2013              0 non-null float64\n",
      "2014              0 non-null float64\n",
      "2015              0 non-null float64\n",
      "2016              0 non-null float64\n",
      "2017              0 non-null float64\n",
      "2018              146 non-null float64\n",
      "2019              146 non-null float64\n",
      "2020              146 non-null float64\n",
      "2021              146 non-null float64\n",
      "2022              145 non-null float64\n",
      "Unnamed: 28       0 non-null float64\n",
      "dtypes: float64(25), object(4)\n",
      "memory usage: 33.2+ KB\n"
     ]
    }
   ],
   "source": [
    "df_csv_gep.info()"
   ]
  },
  {
   "cell_type": "markdown",
   "metadata": {},
   "source": [
    "The column that represent the values from the year 1999 to 2017 and the 'Unnamed: 28' column contain only NAs and will not be considered for further analysis."
   ]
  },
  {
   "cell_type": "code",
   "execution_count": 21,
   "metadata": {},
   "outputs": [
    {
     "data": {
      "text/plain": [
       "GDP growth, constant 2010 USD    146\n",
       "Name: Indicator Name, dtype: int64"
      ]
     },
     "execution_count": 21,
     "metadata": {},
     "output_type": "execute_result"
    }
   ],
   "source": [
    "df_csv_gep['Indicator Name'].value_counts()"
   ]
  },
  {
   "cell_type": "code",
   "execution_count": 22,
   "metadata": {},
   "outputs": [
    {
     "data": {
      "text/plain": [
       "NYGDPMKTPKDZ    146\n",
       "Name: Indicator Code, dtype: int64"
      ]
     },
     "execution_count": 22,
     "metadata": {},
     "output_type": "execute_result"
    }
   ],
   "source": [
    "df_csv_gep['Indicator Code'].value_counts()"
   ]
  },
  {
   "cell_type": "markdown",
   "metadata": {},
   "source": [
    "The column 'Indicator Name' and 'Indicator Code' contain the same value and do not contains usefull information, they will not be considered for further analysis."
   ]
  },
  {
   "cell_type": "code",
   "execution_count": 23,
   "metadata": {},
   "outputs": [],
   "source": [
    "drop_col_gep = list(df_csv_gep.loc[:, 'Indicator Name':'2017'].columns)\n",
    "drop_col_gep.append('Unnamed: 28')"
   ]
  },
  {
   "cell_type": "code",
   "execution_count": 24,
   "metadata": {},
   "outputs": [
    {
     "name": "stdout",
     "output_type": "stream",
     "text": [
      "['Indicator Name', 'Indicator Code', '1999', '2000', '2001', '2002', '2003', '2004', '2005', '2006', '2007', '2008', '2009', '2010', '2011', '2012', '2013', '2014', '2015', '2016', '2017', 'Unnamed: 28']\n"
     ]
    }
   ],
   "source": [
    "print(drop_col_gep)"
   ]
  },
  {
   "cell_type": "code",
   "execution_count": 25,
   "metadata": {},
   "outputs": [],
   "source": [
    "df_csv_gep.drop(drop_col_gep, axis=1, inplace = True)"
   ]
  },
  {
   "cell_type": "code",
   "execution_count": 26,
   "metadata": {},
   "outputs": [],
   "source": [
    "#Renaming the columns for data modelling\n",
    "df_csv_gep.columns = ['CountryName', 'CountryCode', 'Y_2018', 'Y_2019', 'Y_2020', 'Y_2021', 'Y_2022']"
   ]
  },
  {
   "cell_type": "code",
   "execution_count": 27,
   "metadata": {},
   "outputs": [
    {
     "data": {
      "text/html": [
       "<div>\n",
       "<style scoped>\n",
       "    .dataframe tbody tr th:only-of-type {\n",
       "        vertical-align: middle;\n",
       "    }\n",
       "\n",
       "    .dataframe tbody tr th {\n",
       "        vertical-align: top;\n",
       "    }\n",
       "\n",
       "    .dataframe thead th {\n",
       "        text-align: right;\n",
       "    }\n",
       "</style>\n",
       "<table border=\"1\" class=\"dataframe\">\n",
       "  <thead>\n",
       "    <tr style=\"text-align: right;\">\n",
       "      <th></th>\n",
       "      <th>CountryName</th>\n",
       "      <th>CountryCode</th>\n",
       "      <th>Y_2018</th>\n",
       "      <th>Y_2019</th>\n",
       "      <th>Y_2020</th>\n",
       "      <th>Y_2021</th>\n",
       "      <th>Y_2022</th>\n",
       "    </tr>\n",
       "  </thead>\n",
       "  <tbody>\n",
       "    <tr>\n",
       "      <th>0</th>\n",
       "      <td>Advanced Economies</td>\n",
       "      <td>AME</td>\n",
       "      <td>2.2</td>\n",
       "      <td>1.6</td>\n",
       "      <td>-5.4</td>\n",
       "      <td>3.3</td>\n",
       "      <td>3.5</td>\n",
       "    </tr>\n",
       "    <tr>\n",
       "      <th>1</th>\n",
       "      <td>East Asia and Pacific</td>\n",
       "      <td>EAA</td>\n",
       "      <td>6.3</td>\n",
       "      <td>5.8</td>\n",
       "      <td>0.9</td>\n",
       "      <td>7.4</td>\n",
       "      <td>5.2</td>\n",
       "    </tr>\n",
       "    <tr>\n",
       "      <th>2</th>\n",
       "      <td>Emerging Markets and Developing Economies (EMDE)</td>\n",
       "      <td>EMD</td>\n",
       "      <td>4.3</td>\n",
       "      <td>3.6</td>\n",
       "      <td>-2.6</td>\n",
       "      <td>5.0</td>\n",
       "      <td>4.2</td>\n",
       "    </tr>\n",
       "    <tr>\n",
       "      <th>3</th>\n",
       "      <td>Euro Area</td>\n",
       "      <td>E19</td>\n",
       "      <td>1.9</td>\n",
       "      <td>1.3</td>\n",
       "      <td>-7.4</td>\n",
       "      <td>3.6</td>\n",
       "      <td>4.0</td>\n",
       "    </tr>\n",
       "    <tr>\n",
       "      <th>4</th>\n",
       "      <td>Europe and Central Asia</td>\n",
       "      <td>ECH</td>\n",
       "      <td>3.4</td>\n",
       "      <td>2.3</td>\n",
       "      <td>-2.9</td>\n",
       "      <td>3.3</td>\n",
       "      <td>3.9</td>\n",
       "    </tr>\n",
       "  </tbody>\n",
       "</table>\n",
       "</div>"
      ],
      "text/plain": [
       "                                        CountryName CountryCode  Y_2018  \\\n",
       "0                                Advanced Economies         AME     2.2   \n",
       "1                             East Asia and Pacific         EAA     6.3   \n",
       "2  Emerging Markets and Developing Economies (EMDE)         EMD     4.3   \n",
       "3                                         Euro Area         E19     1.9   \n",
       "4                           Europe and Central Asia         ECH     3.4   \n",
       "\n",
       "   Y_2019  Y_2020  Y_2021  Y_2022  \n",
       "0     1.6    -5.4     3.3     3.5  \n",
       "1     5.8     0.9     7.4     5.2  \n",
       "2     3.6    -2.6     5.0     4.2  \n",
       "3     1.3    -7.4     3.6     4.0  \n",
       "4     2.3    -2.9     3.3     3.9  "
      ]
     },
     "execution_count": 27,
     "metadata": {},
     "output_type": "execute_result"
    }
   ],
   "source": [
    "# check the resulting dataframe\n",
    "df_csv_gep.head()"
   ]
  },
  {
   "cell_type": "markdown",
   "metadata": {},
   "source": [
    "#### 2. GDP\n",
    "The files to download are zipped, using zipfile library"
   ]
  },
  {
   "cell_type": "code",
   "execution_count": 28,
   "metadata": {},
   "outputs": [],
   "source": [
    "CSV_GDP_URL = 'https://databank.worldbank.org/data/download/GDP.csv'\n",
    "\n",
    "try:\n",
    "    r3 = requests.get(CSV_GDP_URL)\n",
    "    r3.raise_for_status()\n",
    "except requests.exceptions.HTTPError as e:\n",
    "    raise SystemExit(e)"
   ]
  },
  {
   "cell_type": "code",
   "execution_count": 29,
   "metadata": {},
   "outputs": [],
   "source": [
    "file_gdp = r3.content.decode('utf8')"
   ]
  },
  {
   "cell_type": "code",
   "execution_count": 30,
   "metadata": {},
   "outputs": [],
   "source": [
    "df_csv_gdp = pd.read_csv(StringIO(file_gdp))"
   ]
  },
  {
   "cell_type": "code",
   "execution_count": 31,
   "metadata": {},
   "outputs": [
    {
     "data": {
      "text/html": [
       "<div>\n",
       "<style scoped>\n",
       "    .dataframe tbody tr th:only-of-type {\n",
       "        vertical-align: middle;\n",
       "    }\n",
       "\n",
       "    .dataframe tbody tr th {\n",
       "        vertical-align: top;\n",
       "    }\n",
       "\n",
       "    .dataframe thead th {\n",
       "        text-align: right;\n",
       "    }\n",
       "</style>\n",
       "<table border=\"1\" class=\"dataframe\">\n",
       "  <thead>\n",
       "    <tr style=\"text-align: right;\">\n",
       "      <th></th>\n",
       "      <th>Unnamed: 0</th>\n",
       "      <th>Gross domestic product 2019</th>\n",
       "      <th>Unnamed: 2</th>\n",
       "      <th>Unnamed: 3</th>\n",
       "      <th>Unnamed: 4</th>\n",
       "      <th>Unnamed: 5</th>\n",
       "    </tr>\n",
       "  </thead>\n",
       "  <tbody>\n",
       "    <tr>\n",
       "      <th>0</th>\n",
       "      <td>NaN</td>\n",
       "      <td>NaN</td>\n",
       "      <td>NaN</td>\n",
       "      <td>NaN</td>\n",
       "      <td>NaN</td>\n",
       "      <td>NaN</td>\n",
       "    </tr>\n",
       "    <tr>\n",
       "      <th>1</th>\n",
       "      <td>NaN</td>\n",
       "      <td>NaN</td>\n",
       "      <td>NaN</td>\n",
       "      <td>NaN</td>\n",
       "      <td>(millions of</td>\n",
       "      <td>NaN</td>\n",
       "    </tr>\n",
       "    <tr>\n",
       "      <th>2</th>\n",
       "      <td>NaN</td>\n",
       "      <td>Ranking</td>\n",
       "      <td>NaN</td>\n",
       "      <td>Economy</td>\n",
       "      <td>US dollars)</td>\n",
       "      <td>NaN</td>\n",
       "    </tr>\n",
       "    <tr>\n",
       "      <th>3</th>\n",
       "      <td>NaN</td>\n",
       "      <td>NaN</td>\n",
       "      <td>NaN</td>\n",
       "      <td>NaN</td>\n",
       "      <td>NaN</td>\n",
       "      <td>NaN</td>\n",
       "    </tr>\n",
       "    <tr>\n",
       "      <th>4</th>\n",
       "      <td>USA</td>\n",
       "      <td>1</td>\n",
       "      <td>NaN</td>\n",
       "      <td>United States</td>\n",
       "      <td>21,433,226</td>\n",
       "      <td>NaN</td>\n",
       "    </tr>\n",
       "  </tbody>\n",
       "</table>\n",
       "</div>"
      ],
      "text/plain": [
       "  Unnamed: 0 Gross domestic product 2019  Unnamed: 2     Unnamed: 3  \\\n",
       "0        NaN                         NaN         NaN            NaN   \n",
       "1        NaN                         NaN         NaN            NaN   \n",
       "2        NaN                     Ranking         NaN        Economy   \n",
       "3        NaN                         NaN         NaN            NaN   \n",
       "4        USA                           1         NaN  United States   \n",
       "\n",
       "     Unnamed: 4 Unnamed: 5  \n",
       "0           NaN        NaN  \n",
       "1  (millions of        NaN  \n",
       "2   US dollars)        NaN  \n",
       "3           NaN        NaN  \n",
       "4   21,433,226         NaN  "
      ]
     },
     "execution_count": 31,
     "metadata": {},
     "output_type": "execute_result"
    }
   ],
   "source": [
    "df_csv_gdp.head()"
   ]
  },
  {
   "cell_type": "markdown",
   "metadata": {},
   "source": [
    "The first few lines contain a title, that is read as header of column 1, blank lines and the name of the columns are spread in lines two and three: these need to be skipped and the columns need to be renamed. Columns Unnamed :2 and Unnamed :5 need to be dropped.\n",
    "The file could simply be retrieved with the pandas method read_csv"
   ]
  },
  {
   "cell_type": "code",
   "execution_count": 32,
   "metadata": {},
   "outputs": [],
   "source": [
    "col_names_gdp = ['country_code', 'ranking', 'economy', 'GDP']"
   ]
  },
  {
   "cell_type": "code",
   "execution_count": 33,
   "metadata": {},
   "outputs": [],
   "source": [
    "df_csv_gdp = pd.read_csv(CSV_GDP_URL,  skiprows=range(0, 4))"
   ]
  },
  {
   "cell_type": "code",
   "execution_count": 34,
   "metadata": {},
   "outputs": [],
   "source": [
    "df_csv_gdp.drop(columns=['Unnamed: 2', 'Unnamed: 5'], inplace = True)\n",
    "df_csv_gdp.columns = col_names_gdp"
   ]
  },
  {
   "cell_type": "code",
   "execution_count": 35,
   "metadata": {},
   "outputs": [
    {
     "data": {
      "text/html": [
       "<div>\n",
       "<style scoped>\n",
       "    .dataframe tbody tr th:only-of-type {\n",
       "        vertical-align: middle;\n",
       "    }\n",
       "\n",
       "    .dataframe tbody tr th {\n",
       "        vertical-align: top;\n",
       "    }\n",
       "\n",
       "    .dataframe thead th {\n",
       "        text-align: right;\n",
       "    }\n",
       "</style>\n",
       "<table border=\"1\" class=\"dataframe\">\n",
       "  <thead>\n",
       "    <tr style=\"text-align: right;\">\n",
       "      <th></th>\n",
       "      <th>country_code</th>\n",
       "      <th>ranking</th>\n",
       "      <th>economy</th>\n",
       "      <th>GDP</th>\n",
       "    </tr>\n",
       "  </thead>\n",
       "  <tbody>\n",
       "    <tr>\n",
       "      <th>0</th>\n",
       "      <td>USA</td>\n",
       "      <td>1</td>\n",
       "      <td>United States</td>\n",
       "      <td>21,433,226</td>\n",
       "    </tr>\n",
       "    <tr>\n",
       "      <th>1</th>\n",
       "      <td>CHN</td>\n",
       "      <td>2</td>\n",
       "      <td>China</td>\n",
       "      <td>14,342,903</td>\n",
       "    </tr>\n",
       "    <tr>\n",
       "      <th>2</th>\n",
       "      <td>JPN</td>\n",
       "      <td>3</td>\n",
       "      <td>Japan</td>\n",
       "      <td>5,081,770</td>\n",
       "    </tr>\n",
       "    <tr>\n",
       "      <th>3</th>\n",
       "      <td>DEU</td>\n",
       "      <td>4</td>\n",
       "      <td>Germany</td>\n",
       "      <td>3,861,124</td>\n",
       "    </tr>\n",
       "    <tr>\n",
       "      <th>4</th>\n",
       "      <td>IND</td>\n",
       "      <td>5</td>\n",
       "      <td>India</td>\n",
       "      <td>2,868,929</td>\n",
       "    </tr>\n",
       "  </tbody>\n",
       "</table>\n",
       "</div>"
      ],
      "text/plain": [
       "  country_code ranking        economy           GDP\n",
       "0          USA       1  United States   21,433,226 \n",
       "1          CHN       2          China   14,342,903 \n",
       "2          JPN       3          Japan    5,081,770 \n",
       "3          DEU       4        Germany    3,861,124 \n",
       "4          IND       5          India    2,868,929 "
      ]
     },
     "execution_count": 35,
     "metadata": {},
     "output_type": "execute_result"
    }
   ],
   "source": [
    "df_csv_gdp.head()"
   ]
  },
  {
   "cell_type": "code",
   "execution_count": 36,
   "metadata": {},
   "outputs": [
    {
     "data": {
      "text/plain": [
       "Index(['country_code', 'ranking', 'economy', 'GDP'], dtype='object')"
      ]
     },
     "execution_count": 36,
     "metadata": {},
     "output_type": "execute_result"
    }
   ],
   "source": [
    "df_csv_gdp.columns"
   ]
  },
  {
   "cell_type": "markdown",
   "metadata": {},
   "source": [
    "### EDA"
   ]
  },
  {
   "cell_type": "code",
   "execution_count": null,
   "metadata": {},
   "outputs": [],
   "source": []
  }
 ],
 "metadata": {
  "kernelspec": {
   "display_name": "Python 3 (ipykernel)",
   "language": "python",
   "name": "python3"
  },
  "language_info": {
   "codemirror_mode": {
    "name": "ipython",
    "version": 3
   },
   "file_extension": ".py",
   "mimetype": "text/x-python",
   "name": "python",
   "nbconvert_exporter": "python",
   "pygments_lexer": "ipython3",
   "version": "3.7.8"
  }
 },
 "nbformat": 4,
 "nbformat_minor": 4
}
